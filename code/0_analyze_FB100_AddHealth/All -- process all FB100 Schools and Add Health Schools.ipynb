{
 "cells": [
  {
   "cell_type": "code",
   "execution_count": null,
   "metadata": {
    "collapsed": true
   },
   "outputs": [],
   "source": []
  },
  {
   "cell_type": "code",
   "execution_count": null,
   "metadata": {
    "collapsed": true
   },
   "outputs": [],
   "source": []
  },
  {
   "cell_type": "code",
   "execution_count": null,
   "metadata": {
    "collapsed": true
   },
   "outputs": [],
   "source": []
  },
  {
   "cell_type": "code",
   "execution_count": null,
   "metadata": {
    "collapsed": true
   },
   "outputs": [],
   "source": []
  },
  {
   "cell_type": "code",
   "execution_count": null,
   "metadata": {
    "collapsed": true
   },
   "outputs": [],
   "source": []
  },
  {
   "cell_type": "code",
   "execution_count": null,
   "metadata": {
    "collapsed": true
   },
   "outputs": [],
   "source": []
  },
  {
   "cell_type": "code",
   "execution_count": null,
   "metadata": {
    "collapsed": true
   },
   "outputs": [],
   "source": []
  },
  {
   "cell_type": "code",
   "execution_count": null,
   "metadata": {
    "collapsed": true
   },
   "outputs": [],
   "source": []
  },
  {
   "cell_type": "code",
   "execution_count": null,
   "metadata": {
    "collapsed": true
   },
   "outputs": [],
   "source": [
    "fb_file = '/Users/kristen/Dropbox/gender_graph_data/manuscript/pnas/pnas_output_data/'\n",
    "fb = pd.read_csv(fb_file+'facebook_output_majority_vote.csv')\n",
    "fb_homophily_monophily = pd.read_csv(fb_file+'facebook_homophily_monophily_output_updated.csv')\n",
    "#print fb_hom_mon.columns\n",
    "schools = np.array(['Wellesley22', 'Smith60', 'Simmons81'])\n",
    "fb_subset = fb[~np.in1d(fb.school,schools)] #%in% schools"
   ]
  },
  {
   "cell_type": "code",
   "execution_count": null,
   "metadata": {
    "collapsed": true
   },
   "outputs": [],
   "source": [
    "fb_final = fb_subset.merge(fb_homophily_monophily, \n",
    "                left_on='school', right_on='school', how='outer')\n",
    "#print fb_final"
   ]
  },
  {
   "cell_type": "code",
   "execution_count": null,
   "metadata": {
    "collapsed": true
   },
   "outputs": [],
   "source": [
    "%matplotlib inline\n",
    "os.chdir('/Users/kristen/Dropbox/gender_graph_data/manuscript/pnas/pnas_figures/') \n",
    "from mpl_toolkits.axes_grid1 import Grid\n",
    "from matplotlib.ticker import FixedLocator,LinearLocator,MultipleLocator, FormatStrFormatter\n",
    "\n",
    "alpha_parameter = 0.4\n",
    "fig = plt.figure()\n",
    "\n",
    "grid = Grid(fig, rect=111, nrows_ncols=(2,2),\n",
    "            axes_pad=0.6, label_mode='all',\n",
    "           share_all=False)\n",
    "y_min = 0\n",
    "y_max = 250\n",
    "xlabel_block = 0.69 *100\n",
    "label_loc1 = 200\n",
    "label_loc2 = 170\n",
    "\n",
    "\n",
    "for i in range(4):\n",
    "    grid[i].tick_params('both', length=4, width=1, \n",
    "                        which='major', left=1, bottom=1, top=0, right=0)\n",
    "\n",
    "    if i == 0: \n",
    "        grid[i].scatter(fb_final.cc_homophily_F,fb_final.ix[:,2],\n",
    "                     alpha = alpha_parameter, \n",
    "                    color='red')\n",
    "        grid[i].scatter(fb_final.cc_homophily_M,fb_final.ix[:,2],\n",
    "                     alpha = alpha_parameter, \n",
    "                    color='black')\n",
    "\n",
    "        grid[i].set_ylim(0.3,1)\n",
    "        grid[i].set_ylabel('AUC, 1-hop MV')\n",
    "        grid[i].spines['right'].set_visible(False)\n",
    "        grid[i].spines['top'].set_visible(False)\n",
    "        grid[i].set_xlim(0,1)\n",
    "        grid[i].set_xlabel('Homophily Index ($\\hat{h}_F, \\hat{h}_M$)')\n",
    "        grid[i].annotate('Females', xy=(0.05,0.9), \n",
    "                 color='red', alpha=1, size=11)\n",
    "        grid[i].annotate('Males', xy=(0.05,0.8), \n",
    "                 color='black', alpha=1, size=11)\n",
    "\n",
    "\n",
    "\n",
    "    if i == 1:\n",
    "        grid[i].scatter(fb_final.cc_monophily_F,fb_final.ix[:,2],\n",
    "                     alpha = alpha_parameter, \n",
    "                    color='red')\n",
    "        grid[i].scatter(fb_final.cc_monophily_M,fb_final.ix[:,2],\n",
    "                     alpha = alpha_parameter, \n",
    "                    color='black')\n",
    "\n",
    "        #grid[i].set_ylim(0.3,1)\n",
    "        #grid[i].set_xlim(0.3,0.2)\n",
    "\n",
    "        grid[i].spines['right'].set_visible(False)\n",
    "        grid[i].spines['top'].set_visible(False)\n",
    "        grid[i].set_ylabel('AUC, 1-hop MV')\n",
    "        grid[i].set_xlabel('Monophily Index ($\\hat{\\phi}_F, \\hat{\\phi}_M$)')\n",
    "\n",
    "\n",
    "    if i == 2:\n",
    "        grid[i].scatter(fb_final.cc_homophily_F,fb_final.ix[:,4],\n",
    "                     alpha = alpha_parameter, \n",
    "                    color='red')\n",
    "        grid[i].scatter(fb_final.cc_homophily_M,fb_final.ix[:,4],\n",
    "                     alpha = alpha_parameter, \n",
    "                    color='black')\n",
    "        grid[i].set_ylabel('AUC, 2-hop MV')\n",
    "        grid[i].set_ylim(0.3,1)\n",
    "        grid[i].spines['right'].set_visible(False)\n",
    "        grid[i].spines['top'].set_visible(False)\n",
    "        grid[i].set_xlabel('Homophily Index ($\\hat{h}_F, \\hat{h}_M$)')\n",
    "        #grid[i].set_xlim(0,0.1)\n",
    "    if i == 3:\n",
    "        grid[i].scatter(fb_final.cc_monophily_F,fb_final.ix[:,4],\n",
    "                     alpha = alpha_parameter, \n",
    "                    color='red')\n",
    "        grid[i].scatter(fb_final.cc_monophily_M,fb_final.ix[:,4],\n",
    "                     alpha = alpha_parameter, \n",
    "                    color='black')\n",
    "        grid[i].set_xlim(0,0.1)\n",
    "        grid[i].set_ylim(0.3,1)\n",
    "        grid[i].set_ylabel('AUC, 2-hop MV')\n",
    "        grid[i].set_xlabel('Monophily Index ($\\hat{\\phi}_F, \\hat{\\phi}_M$)')\n",
    "\n",
    "        grid[i].spines['right'].set_visible(False)\n",
    "        grid[i].spines['top'].set_visible(False)\n",
    "\n",
    "#plt.tight_layout()\n",
    "pp = PdfPages('FB100_hom_mon_majority_vote.pdf')\n",
    "pp.savefig()\n",
    "pp.close()"
   ]
  }
 ],
 "metadata": {
  "kernelspec": {
   "display_name": "Python 2",
   "language": "python",
   "name": "python2"
  },
  "language_info": {
   "codemirror_mode": {
    "name": "ipython",
    "version": 2
   },
   "file_extension": ".py",
   "mimetype": "text/x-python",
   "name": "python",
   "nbconvert_exporter": "python",
   "pygments_lexer": "ipython2",
   "version": "2.7.12"
  }
 },
 "nbformat": 4,
 "nbformat_minor": 0
}
