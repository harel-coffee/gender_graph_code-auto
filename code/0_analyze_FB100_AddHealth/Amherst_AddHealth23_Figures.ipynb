{
 "cells": [
  {
   "cell_type": "markdown",
   "metadata": {},
   "source": [
    "#### 4/24/2017\n",
    "\n",
    "This notebook contains the Amherst-specific figures and the Add Health School figures for School 23."
   ]
  },
  {
   "cell_type": "code",
   "execution_count": 4,
   "metadata": {
    "collapsed": false
   },
   "outputs": [],
   "source": [
    "## implemented LINK with solver='lbfgs'\n",
    "## KM Altenburger\n",
    "\n",
    "from __future__ import division\n",
    "\n",
    "## relevant libraries\n",
    "execfile('../functions/python_libraries.py')\n",
    "\n",
    "## processing datasets\n",
    "execfile('../functions/create_adjacency_matrix.py') \n",
    "execfile('../functions/parsing.py')\n",
    "execfile('../functions/mixing.py')\n",
    "\n",
    "## code for gender prediction \n",
    "execfile('../functions/LINK_finalized.py')\n",
    "execfile('../functions/majority_vote.py')\n",
    "execfile('../functions/ZGL.py')"
   ]
  },
  {
   "cell_type": "markdown",
   "metadata": {},
   "source": [
    "## Amherst"
   ]
  },
  {
   "cell_type": "code",
   "execution_count": 5,
   "metadata": {
    "collapsed": false
   },
   "outputs": [
    {
     "name": "stdout",
     "output_type": "stream",
     "text": [
      "Amherst41\n"
     ]
    }
   ],
   "source": [
    "## load Amherst only\n",
    "\n",
    "## filename where relevant FB100 data is stored\n",
    "fb100_file = '/Users/kristen/Dropbox/gender_graph_data/FB_processing_pipeline/data/0_original/'\n",
    "\n",
    "\n",
    "for f in listdir(fb100_file):\n",
    "    if f.endswith('.mat'):\n",
    "        tag = f.replace('.mat', '')\n",
    "        if (tag == 'Amherst41'):\n",
    "            print tag\n",
    "            input_file = path_join(fb100_file, f)\n",
    "            A, metadata = parse_fb100_mat_file(input_file)\n",
    "\n",
    "            adj_matrix_tmp = A.todense()\n",
    "            gender_y_tmp = metadata[:,1] #gender\n",
    "                \n",
    "            gender_dict = create_dict(range(len(gender_y_tmp)), gender_y_tmp)\n",
    "                \n",
    "            (gender_y, adj_matrix_gender) = create_adj_membership(\n",
    "                                    nx.from_numpy_matrix(adj_matrix_tmp), # graph\n",
    "                                                           gender_dict,   # dictionary\n",
    "                                                           0,             # val_to_drop\n",
    "                                                           'yes',         # delete_na_cols\n",
    "                                                           0,             # diagonal\n",
    "                                                           None,          # directed_type\n",
    "                                                           'gender')      # gender\n",
    "            \n",
    "            gender_y = np.array(map(np.int,gender_y)) ## need np.int for machine precisions reasons"
   ]
  },
  {
   "cell_type": "markdown",
   "metadata": {},
   "source": [
    "# illustrate overdispersion in Amherst"
   ]
  },
  {
   "cell_type": "code",
   "execution_count": 7,
   "metadata": {
    "collapsed": false
   },
   "outputs": [
    {
     "name": "stdout",
     "output_type": "stream",
     "text": [
      "0.54765080958\n",
      "0.512111092044\n"
     ]
    }
   ],
   "source": [
    "#F\n",
    "in_F_degree = adj_matrix_gender[gender_y==1,] * np.matrix((gender_y==1)+0).T\n",
    "total_F_degree = np.sum(adj_matrix_gender[gender_y==1,] ,1)\n",
    "h_F = np.mean(in_F_degree)/np.mean(total_F_degree)\n",
    "print h_F\n",
    "model_in_F_Degree = total_F_degree * h_F\n",
    "lower_F = model_in_F_Degree - 1.96 * np.sqrt(total_F_degree * h_F * (1-h_F))\n",
    "upper_F = model_in_F_Degree + 1.96 * np.sqrt(total_F_degree * h_F * (1-h_F))\n",
    "#M\n",
    "in_M_degree = adj_matrix_gender[gender_y==2,] * np.matrix((gender_y==2)+0).T\n",
    "total_M_degree = np.sum(adj_matrix_gender[gender_y==2,] ,1)\n",
    "h_M = np.mean(in_M_degree)/np.mean(total_M_degree)\n",
    "print h_M\n",
    "model_in_M_Degree = total_M_degree * h_M\n",
    "lower_M = model_in_M_Degree - 1.96 * np.sqrt(total_M_degree * h_M * (1-h_M))\n",
    "upper_M = model_in_M_Degree + 1.96 * np.sqrt(total_M_degree * h_M * (1-h_M))\n",
    "\n"
   ]
  },
  {
   "cell_type": "code",
   "execution_count": 8,
   "metadata": {
    "collapsed": false
   },
   "outputs": [],
   "source": [
    "os.chdir('/Users/kristen/Dropbox/gender_graph_data/manuscript/pnas/')\n",
    "execfile('pnas_code/compute_null_distribution.py')"
   ]
  },
  {
   "cell_type": "code",
   "execution_count": null,
   "metadata": {
    "collapsed": false
   },
   "outputs": [],
   "source": [
    "test_amherst = compute_null_distribution(adj_matrix_gender, \n",
    "                                gender_y, \n",
    "                                100)\n",
    "print test_amherst[0]"
   ]
  },
  {
   "cell_type": "code",
   "execution_count": 24,
   "metadata": {
    "collapsed": false
   },
   "outputs": [
    {
     "data": {
      "image/png": "[encoded data removed]",
      "text/plain": [
       "<matplotlib.figure.Figure at 0x1113a68d0>"
      ]
     },
     "metadata": {},
     "output_type": "display_data"
    }
   ],
   "source": [
    "%matplotlib inline\n",
    "plt.hist(in_F_degree/total_F_degree,\n",
    "         bins = np.linspace(0,1,nbins),\n",
    "         normed = True,\n",
    "         edgecolor = 'white',\n",
    "        color='red',alpha=0.5)\n",
    "plt.hist(test_amherst[0],bins = np.linspace(0,1,nbins),\n",
    "         normed = True,\n",
    "         edgecolor = 'red',histtype='step',\n",
    "        color='white',alpha=1,lw=1.5)\n",
    "\n",
    "\n",
    "plt.show()"
   ]
  },
  {
   "cell_type": "code",
   "execution_count": null,
   "metadata": {
    "collapsed": true
   },
   "outputs": [],
   "source": []
  },
  {
   "cell_type": "markdown",
   "metadata": {
    "collapsed": true
   },
   "source": [
    "### confirm 100K is enough iterations"
   ]
  },
  {
   "cell_type": "code",
   "execution_count": 10,
   "metadata": {
    "collapsed": false
   },
   "outputs": [],
   "source": [
    "n_iter = 100000\n",
    "d_iF = map(np.int,np.array(total_F_degree.T)[0])\n",
    "\n",
    "mc_F = []\n",
    "for j in range(n_iter):\n",
    "    mc_F.append( np.random.binomial(n=map(np.int,np.array(total_F_degree.T)[0]), p=h_F)/d_iF)\n",
    "    \n",
    "mc_F_final = np.array(mc_F).flatten()\n",
    "\n",
    "\n",
    "d_iM = map(np.int,np.array(total_M_degree.T)[0])\n",
    "mc_M = []\n",
    "for j in range(n_iter):\n",
    "    mc_M.append( np.random.binomial(n=map(np.int,np.array(total_M_degree.T)[0]), p=h_M)/d_iM)\n",
    "    \n",
    "mc_M_final = np.array(mc_M).flatten()"
   ]
  },
  {
   "cell_type": "markdown",
   "metadata": {},
   "source": [
    "# final paper figure"
   ]
  },
  {
   "cell_type": "code",
   "execution_count": 11,
   "metadata": {
    "collapsed": true
   },
   "outputs": [],
   "source": [
    "#from matplotlib import rc\n",
    "#rc('text', usetex=False)\n",
    "#rc('font',**{'family':'sans-serif','sans-serif':['Helvetica']})\n"
   ]
  },
  {
   "cell_type": "code",
   "execution_count": null,
   "metadata": {
    "collapsed": true
   },
   "outputs": [],
   "source": []
  },
  {
   "cell_type": "code",
   "execution_count": 103,
   "metadata": {
    "collapsed": false
   },
   "outputs": [
    {
     "data": {
      "image/png": "[encoded data removed]",
      "text/plain": [
       "<matplotlib.figure.Figure at 0x112ca7450>"
      ]
     },
     "metadata": {},
     "output_type": "display_data"
    }
   ],
   "source": [
    "os.chdir('/Users/kristen/Dropbox/gender_graph_data/manuscript/pnas/pnas_figures/')\n",
    "alpha_empirical = 0.4\n",
    "\n",
    "%matplotlib inline\n",
    "nbins = 45\n",
    "f, (ax1, ax2) = plt.subplots(1, 2, \n",
    "                             sharey=False, sharex=False,\n",
    "                            figsize=(8, 3))\n",
    "plt.setp(ax1, xticks=[0,0.25, 0.5, 0.75, 1], xticklabels=['0', '0.25', '0.50', '0.75', '1'])\n",
    "ax1.set_xticks([0,0.25, 0.5, 0.75, 1])\n",
    "ax1.minorticks_on()\n",
    "ax1.tick_params('both', length=4, width=1, which='major', left=1, bottom=1, top=0, right=0)\n",
    "\n",
    "\n",
    "ax1.hist(in_F_degree/total_F_degree,\n",
    "         bins = np.linspace(0,1,nbins),\n",
    "         normed = True,\n",
    "         edgecolor = 'white',\n",
    "        color='red',alpha=0.25)\n",
    "\n",
    "ax1.hist(mc_F_final,\n",
    "         bins = np.linspace(0,1,nbins),\n",
    "         normed = True,\n",
    "         edgecolor = 'red',histtype='step',\n",
    "        color='white',alpha=1,lw=1.5)\n",
    "\n",
    "ax1.set_ylabel('Normalized Frequency')\n",
    "ax1.set_xlabel('Proportion of $in$-class neighbors, $d_{i,\\\\mathrm{in}}/d_i$')\n",
    "ax1.spines[\"right\"].set_visible(False)\n",
    "ax1.spines[\"top\"].set_visible(False)\n",
    "ax1.set_ylim(0,8)\n",
    "ax1.set_xlim(0,1.01)\n",
    "\n",
    "ax2.set_ylim(0,8)\n",
    "ax2.set_xlim(0,1.01)\n",
    "plt.setp(ax2, xticks=[0,0.25, 0.5, 0.75, 1], xticklabels=['0', '0.25', '0.50', '0.75', '1'])\n",
    "ax2.set_xticks([0,0.25, 0.5, 0.75, 1])\n",
    "ax2.minorticks_on()\n",
    "ax2.tick_params('both', length=4, width=1, which='major', left=1, bottom=1, top=0, right=0)\n",
    "\n",
    "\n",
    "ax2.hist(in_M_degree/total_M_degree,\n",
    "         bins = np.linspace(0,1,nbins),\n",
    "         normed = True,\n",
    "         edgecolor = 'white',\n",
    "        color='black',alpha=0.25)\n",
    "ax2.hist(mc_M_final,\n",
    "         bins = np.linspace(0,1,nbins),\n",
    "         normed = True,\n",
    "         edgecolor = 'black',histtype='step',\n",
    "        color='white',alpha=1,lw=1.5)\n",
    "ax2.spines[\"right\"].set_visible(False)\n",
    "ax2.spines[\"top\"].set_visible(False)\n",
    "ax2.set_xlabel('Proportion of $in$-class Neighbors, $d_{i,\\\\mathrm{in}}/d_i$')\n",
    "ax2.set_ylabel('Normalized Frequency')\n",
    "\n",
    "ax1.annotate('Females Null', xy=(0.05,7.5), \n",
    "                 color='red', alpha=1, size=12)\n",
    "ax1.annotate('Females Empirical', xy=(0.05,7), \n",
    "                 color='red', alpha=alpha_empirical, size=12)\n",
    "ax2.annotate('Males Null', xy=(0.05,7.5), \n",
    "                 color='black', alpha=1, size=12)\n",
    "ax2.annotate('Males Empirical', xy=(0.05,7), \n",
    "                 color='black', alpha=alpha_empirical, size=12)\n",
    "plt.tight_layout()\n",
    "pp = PdfPages('Facebook_Amherst_overdispersion_100k.pdf')\n",
    "pp.savefig()\n",
    "pp.close()"
   ]
  },
  {
   "cell_type": "code",
   "execution_count": null,
   "metadata": {
    "collapsed": true
   },
   "outputs": [],
   "source": []
  },
  {
   "cell_type": "code",
   "execution_count": null,
   "metadata": {
    "collapsed": true
   },
   "outputs": [],
   "source": []
  },
  {
   "cell_type": "code",
   "execution_count": null,
   "metadata": {
    "collapsed": true
   },
   "outputs": [],
   "source": []
  },
  {
   "cell_type": "code",
   "execution_count": null,
   "metadata": {
    "collapsed": true
   },
   "outputs": [],
   "source": []
  },
  {
   "cell_type": "code",
   "execution_count": 16,
   "metadata": {
    "collapsed": false
   },
   "outputs": [
    {
     "data": {
      "image/png": "[encoded data removed]",
      "text/plain": [
       "<matplotlib.figure.Figure at 0x1135e9a10>"
      ]
     },
     "metadata": {},
     "output_type": "display_data"
    }
   ],
   "source": [
    "n_iter = 500000\n",
    "d_iF = map(np.int,np.array(total_F_degree.T)[0])\n",
    "\n",
    "mc_F = []\n",
    "for j in range(n_iter):\n",
    "    mc_F.append( np.random.binomial(n=map(np.int,np.array(total_F_degree.T)[0]), p=h_F)/d_iF)\n",
    "    \n",
    "mc_F_final = np.array(mc_F).flatten()\n",
    "\n",
    "\n",
    "d_iM = map(np.int,np.array(total_M_degree.T)[0])\n",
    "mc_M = []\n",
    "for j in range(n_iter):\n",
    "    mc_M.append( np.random.binomial(n=map(np.int,np.array(total_M_degree.T)[0]), p=h_M)/d_iM)\n",
    "    \n",
    "mc_M_final = np.array(mc_M).flatten()\n",
    "\n",
    "\n",
    "os.chdir('/Users/kristen/Dropbox/gender_graph_data/manuscript/pnas/pnas_figures/')\n",
    "%matplotlib inline\n",
    "nbins = 45\n",
    "f, (ax1, ax2) = plt.subplots(1, 2, \n",
    "                             sharey=False, sharex=False,\n",
    "                            figsize=(8, 3))\n",
    "ax1.hist(in_F_degree/total_F_degree,\n",
    "         bins = np.linspace(0,1,nbins),\n",
    "         normed = True,\n",
    "         edgecolor = 'white',\n",
    "        color='red',alpha=0.5)\n",
    "\n",
    "ax1.hist(mc_F_final,\n",
    "         bins = np.linspace(0,1,nbins),\n",
    "         normed = True,\n",
    "         edgecolor = 'red',histtype='step',\n",
    "        color='white',alpha=1,lw=1)\n",
    "\n",
    "ax1.set_ylabel('Frequency')\n",
    "ax1.spines[\"right\"].set_visible(False)\n",
    "ax1.spines[\"top\"].set_visible(False)\n",
    "ax1.set_ylim(0,8)\n",
    "\n",
    "ax2.set_ylim(0,8)\n",
    "\n",
    "\n",
    "ax2.hist(in_M_degree/total_M_degree,\n",
    "         bins = np.linspace(0,1,nbins),\n",
    "         normed = True,\n",
    "         edgecolor = 'white',\n",
    "        color='black',alpha=0.5)\n",
    "\n",
    "ax2.hist(mc_M_final,\n",
    "         bins = np.linspace(0,1,nbins),\n",
    "         normed = True,\n",
    "         edgecolor = 'black',histtype='step',\n",
    "        color='white',alpha=1,lw=1.5)\n",
    "ax2.spines[\"right\"].set_visible(False)\n",
    "ax2.spines[\"top\"].set_visible(False)\n",
    "\n",
    "f.text(0.5, 0.01, 'Proportion of $in$-class degrees, $d_{i,in}/d_i$', ha='center',size=10)\n",
    "f.text(0.5, 0.95, 'Overdispersion of $in$-class preferences, Amherst College', ha='center',size=10)\n",
    "ax1.annotate('Females', xy=(0.08,6), \n",
    "                 color='red', alpha=1, size=12)\n",
    "\n",
    "ax2.annotate('Males', xy=(0.08,6), \n",
    "                 color='black', alpha=1, size=12)\n",
    "\n",
    "\n",
    "\n",
    "pp = PdfPages('Facebook_Amherst_overdispersion_500k.pdf')\n",
    "pp.savefig()\n",
    "pp.close()"
   ]
  },
  {
   "cell_type": "code",
   "execution_count": 19,
   "metadata": {
    "collapsed": false
   },
   "outputs": [
    {
     "data": {
      "image/png": "[encoded data removed]",
      "text/plain": [
       "<matplotlib.figure.Figure at 0x112306610>"
      ]
     },
     "metadata": {},
     "output_type": "display_data"
    }
   ],
   "source": [
    "n_iter = 1\n",
    "d_iF = map(np.int,np.array(total_F_degree.T)[0])\n",
    "\n",
    "mc_F = []\n",
    "for j in range(n_iter):\n",
    "    mc_F.append( np.random.binomial(n=map(np.int,np.array(total_F_degree.T)[0]), p=h_F)/d_iF)\n",
    "    \n",
    "mc_F_final = np.array(mc_F).flatten()\n",
    "\n",
    "\n",
    "d_iM = map(np.int,np.array(total_M_degree.T)[0])\n",
    "mc_M = []\n",
    "for j in range(n_iter):\n",
    "    mc_M.append( np.random.binomial(n=map(np.int,np.array(total_M_degree.T)[0]), p=h_M)/d_iM)\n",
    "    \n",
    "mc_M_final = np.array(mc_M).flatten()\n",
    "\n",
    "\n",
    "os.chdir('/Users/kristen/Dropbox/gender_graph_data/manuscript/pnas/pnas_figures/')\n",
    "%matplotlib inline\n",
    "nbins = 45\n",
    "f, (ax1, ax2) = plt.subplots(1, 2, \n",
    "                             sharey=False, sharex=False,\n",
    "                            figsize=(8, 3))\n",
    "ax1.hist(in_F_degree/total_F_degree,\n",
    "         bins = np.linspace(0,1,nbins),\n",
    "         normed = True,\n",
    "         edgecolor = 'white',\n",
    "        color='red',alpha=0.5)\n",
    "\n",
    "ax1.hist(mc_F_final,\n",
    "         bins = np.linspace(0,1,nbins),\n",
    "         normed = True,\n",
    "         edgecolor = 'red',histtype='step',\n",
    "        color='white',alpha=1,lw=1)\n",
    "\n",
    "ax1.set_ylabel('Frequency')\n",
    "ax1.spines[\"right\"].set_visible(False)\n",
    "ax1.spines[\"top\"].set_visible(False)\n",
    "ax1.set_ylim(0,8)\n",
    "\n",
    "ax2.set_ylim(0,8)\n",
    "\n",
    "\n",
    "ax2.hist(in_M_degree/total_M_degree,\n",
    "         bins = np.linspace(0,1,nbins),\n",
    "         normed = True,\n",
    "         edgecolor = 'white',\n",
    "        color='black',alpha=0.5)\n",
    "\n",
    "ax2.hist(mc_M_final,\n",
    "         bins = np.linspace(0,1,nbins),\n",
    "         normed = True,\n",
    "         edgecolor = 'black',histtype='step',\n",
    "        color='white',alpha=1,lw=1.5)\n",
    "ax2.spines[\"right\"].set_visible(False)\n",
    "ax2.spines[\"top\"].set_visible(False)\n",
    "\n",
    "f.text(0.5, 0.01, 'Proportion of $in$-class degrees, $d_{i,in}/d_i$', ha='center',size=10)\n",
    "f.text(0.5, 0.95, 'Overdispersion of $in$-class preferences, Amherst College', ha='center',size=10)\n",
    "ax1.annotate('Females', xy=(0.08,6), \n",
    "                 color='red', alpha=1, size=12)\n",
    "\n",
    "ax2.annotate('Males', xy=(0.08,6), \n",
    "                 color='black', alpha=1, size=12)\n",
    "\n",
    "\n",
    "\n",
    "pp = PdfPages('Facebook_Amherst_overdispersion_1.pdf')\n",
    "pp.savefig()\n",
    "pp.close()"
   ]
  },
  {
   "cell_type": "code",
   "execution_count": null,
   "metadata": {
    "collapsed": true
   },
   "outputs": [],
   "source": []
  },
  {
   "cell_type": "code",
   "execution_count": null,
   "metadata": {
    "collapsed": true
   },
   "outputs": [],
   "source": []
  },
  {
   "cell_type": "code",
   "execution_count": null,
   "metadata": {
    "collapsed": true
   },
   "outputs": [],
   "source": []
  },
  {
   "cell_type": "code",
   "execution_count": null,
   "metadata": {
    "collapsed": true
   },
   "outputs": [],
   "source": []
  },
  {
   "cell_type": "code",
   "execution_count": 148,
   "metadata": {
    "collapsed": false
   },
   "outputs": [
    {
     "data": {
      "image/png": "[encoded data removed]",
      "text/plain": [
       "<matplotlib.figure.Figure at 0x111e02d50>"
      ]
     },
     "metadata": {},
     "output_type": "display_data"
    }
   ],
   "source": [
    "os.chdir('/Users/kristen/Dropbox/gender_graph_data/manuscript/pnas/pnas_figures/')\n",
    "%matplotlib inline\n",
    "f, (ax1, ax2) = plt.subplots(1, 2, \n",
    "                             sharey=False, sharex=False,\n",
    "                            figsize=(8, 3))\n",
    "ax1.scatter(total_F_degree,\n",
    "            (in_F_degree - model_in_F_Degree)/np.sqrt(total_F_degree * h_F * (1-h_F))\n",
    "            , color='red',alpha=0.25)\n",
    "#ax1.plot(np.unique(np.array(total_F_degree.T)),\n",
    "#         li_F, 'k--',alpha=1)#, alpha =0.5)\n",
    "#ax1.plot(np.unique(np.array(total_F_degree.T)),\n",
    "#         ui_F,'k--',alpha=1)#, alpha =0.5)\n",
    "#ax1.plot(total_F_degree,upper_F, 'g--')#, alpha =0.5)\n",
    "ax1.plot( [0,450],[0,0] ,'k',alpha=1)\n",
    "\n",
    "ax1.plot( [0,450],[1.96,1.96] ,'k--',alpha=1)\n",
    "ax1.plot( [0,450],[-1.96,-1.96] ,'k--',alpha=1)\n",
    "\n",
    "\n",
    "\n",
    "\n",
    "#ax1.set_xlabel('In-Class Degree')\n",
    "ax1.set_ylabel('Standardized Residuals')#, [$d_{i,in} - d_{i}\\cdot \\hat{h}_r$]')\n",
    "ax1.set_xlim(0,430)\n",
    "#ax1.set_ylim(-65,65)\n",
    "ax1.spines[\"right\"].set_visible(False)\n",
    "ax1.spines[\"top\"].set_visible(False)\n",
    "\n",
    "\n",
    "ax2.scatter(total_M_degree,\n",
    "            (in_M_degree - model_in_M_Degree)/np.sqrt(total_M_degree * h_M * (1-h_M))\n",
    "            , color='black',alpha=0.25)\n",
    "\n",
    "#ax2.plot(np.unique(np.array(total_M_degree.T)),\n",
    "#         li_M, 'k--',alpha=1)#, alpha =0.5)\n",
    "#ax2.plot(np.unique(np.array(total_M_degree.T)),\n",
    "#         ui_M,'k--',alpha=1)#, alpha =0.5)\n",
    "ax2.plot( [0,450],[1.96,1.96] ,'k--',alpha=1)\n",
    "ax2.plot( [0,450],[-1.96,-1.96] ,'k--',alpha=1)\n",
    "\n",
    "\n",
    "\n",
    "#ax2.scatter(total_M_degree,in_M_degree, color='black',alpha=0.6)\n",
    "#ax2.scatter(total_M_degree,model_in_M_Degree, color='green')\n",
    "#ax2.set_xlabel('In-Class Degree')\n",
    "#ax2.set_ylabel('In-Class Degree')\n",
    "#ax2.set_ylabel('Residuals')\n",
    "ax2.plot( [0,450],[0,0] ,'k',alpha=1)\n",
    "#ax2.set_ylim(-65,65)\n",
    "\n",
    "\n",
    "\n",
    "\n",
    "ax2.set_xlim(0,430)\n",
    "#ax2.set_ylim(-60,60)\n",
    "#ax2.plot(total_M_degree,lower_M,'g--')#, alpha =0.5)\n",
    "#ax2.plot(total_M_degree,upper_M, 'g--')#, alpha =0.5)\n",
    "\n",
    "ax2.spines[\"right\"].set_visible(False)\n",
    "ax2.spines[\"top\"].set_visible(False)\n",
    "\n",
    "f.text(0.5, 0.01, 'Total Degree', ha='center',size=10)\n",
    "\n",
    "\n",
    "f.text(0.5, 0.95, 'Standardized Residuals of observed versus predicted $in$-class degrees, Amherst College', ha='center',size=10)\n",
    "ax1.annotate('Females', xy=(8,7), \n",
    "                 color='red', alpha=1, size=12)\n",
    "\n",
    "ax2.annotate('Males', xy=(8,7), \n",
    "                 color='black', alpha=1, size=12)\n",
    "\n",
    "\n",
    "\n",
    "#pp = PdfPages('Facebook_Amherst_overdispersion.pdf')\n",
    "#pp.savefig()\n",
    "#pp.close()\n",
    "#plt.show()"
   ]
  },
  {
   "cell_type": "code",
   "execution_count": null,
   "metadata": {
    "collapsed": true
   },
   "outputs": [],
   "source": []
  },
  {
   "cell_type": "code",
   "execution_count": null,
   "metadata": {
    "collapsed": true
   },
   "outputs": [],
   "source": []
  },
  {
   "cell_type": "code",
   "execution_count": null,
   "metadata": {
    "collapsed": true
   },
   "outputs": [],
   "source": []
  },
  {
   "cell_type": "code",
   "execution_count": null,
   "metadata": {
    "collapsed": true
   },
   "outputs": [],
   "source": []
  },
  {
   "cell_type": "code",
   "execution_count": null,
   "metadata": {
    "collapsed": true
   },
   "outputs": [],
   "source": []
  },
  {
   "cell_type": "code",
   "execution_count": 28,
   "metadata": {
    "collapsed": false
   },
   "outputs": [
    {
     "name": "stdout",
     "output_type": "stream",
     "text": [
      "1015\n",
      "1017\n",
      "(2032, 2032)\n"
     ]
    }
   ],
   "source": [
    "print np.sum((gender_y==1)+0)\n",
    "print np.sum((gender_y==2)+0)\n",
    "print np.shape(adj_matrix_gender)\n"
   ]
  },
  {
   "cell_type": "code",
   "execution_count": 29,
   "metadata": {
    "collapsed": false
   },
   "outputs": [
    {
     "name": "stdout",
     "output_type": "stream",
     "text": [
      "0\n",
      "0\n"
     ]
    }
   ],
   "source": [
    "print np.sum((np.sum(adj_matrix_gender,1)==0)+0)\n",
    "print np.sum((np.sum(adj_matrix_gender,0)==0)+0)"
   ]
  },
  {
   "cell_type": "code",
   "execution_count": 115,
   "metadata": {
    "collapsed": false
   },
   "outputs": [
    {
     "name": "stdout",
     "output_type": "stream",
     "text": [
      "[1195 1396  187  471 1014 1166  393 1267 1960 1304]\n",
      "\n",
      "[1735  841  980 1587  383  547  747 1524  907   59]\n",
      "\n",
      "[ 142 1154  405 1983  979 1410  752 1466 1022 1978]\n",
      "\n",
      "[ 361 1140  734  220 1205  239 1445  192 1321 1191]\n",
      "\n",
      "[ 982   66  744 1213 1112  130   52 1795  216  636]\n",
      "\n",
      "[1473 1017 1843 1981 1814 1153  347 1596  300  534]\n",
      "\n",
      "[1520  790  595 1320  765  813  759 1913  586  998]\n",
      "\n",
      "[ 246 1554  866  820 1995 1125 1049  790 1859 1796]\n",
      "\n",
      "[ 185 1793  801  316 1493  328  569 1994  776 1783]\n",
      "\n",
      "[ 792  275 1242 1719  297 1847  756  584 1338  254]\n",
      "\n"
     ]
    }
   ],
   "source": [
    "k_fold = cross_validation.ShuffleSplit(len(gender_y), n_iter=10,\n",
    "                                                   test_size=0.5,\n",
    "                                                   random_state=1)\n",
    "for k, (train, test) in enumerate(k_fold):\n",
    "    idx = np.concatenate((train, test))\n",
    "    print idx[0:10]\n",
    "    print ''"
   ]
  },
  {
   "cell_type": "code",
   "execution_count": null,
   "metadata": {
    "collapsed": true
   },
   "outputs": [],
   "source": []
  },
  {
   "cell_type": "markdown",
   "metadata": {},
   "source": [
    "### LINK"
   ]
  },
  {
   "cell_type": "code",
   "execution_count": 2,
   "metadata": {
    "collapsed": true
   },
   "outputs": [],
   "source": [
    "percent_initially_unlabelled = [0.99,0.95,0.9,0.8,0.7,0.6,0.5,0.4,0.3,0.2,0.1,0.05,0.01]\n",
    "percent_initially_labelled = np.subtract(1, percent_initially_unlabelled)"
   ]
  },
  {
   "cell_type": "code",
   "execution_count": 50,
   "metadata": {
    "collapsed": false
   },
   "outputs": [
    {
     "data": {
      "image/png": "[encoded data removed]",
      "text/plain": [
       "<matplotlib.figure.Figure at 0x111814550>"
      ]
     },
     "metadata": {},
     "output_type": "display_data"
    }
   ],
   "source": [
    "%matplotlib inline\n",
    "plt.errorbar(percent_initially_labelled,\n",
    "           mean_wt_auc_amherst, yerr=se_wt_auc_amherst, fmt='--o', capthick=2,\n",
    "            alpha=0.6, elinewidth=3, color='green')\n",
    "plt.errorbar(percent_initially_labelled,\n",
    "           mean_wt_auc_amherst_liblinear, yerr=se_wt_auc_amherst_liblinear, fmt='--o', capthick=2,\n",
    "            alpha=0.6, elinewidth=3, color='red')\n",
    "#plt.xlim(0.4,0.6)\n",
    "#plt.ylim(0.8,0.9)\n",
    "plt.show()"
   ]
  },
  {
   "cell_type": "code",
   "execution_count": 18,
   "metadata": {
    "collapsed": false
   },
   "outputs": [
    {
     "name": "stdout",
     "output_type": "stream",
     "text": [
      "0.99\n",
      "0.95\n",
      "0.9\n",
      "0.8\n",
      "0.7\n",
      "0.6\n",
      "0.5\n",
      "0.4\n",
      "0.3\n",
      "0.2\n",
      "0.1\n",
      "0.05\n",
      "0.01\n"
     ]
    }
   ],
   "source": [
    "(mean_accuracy_amherst, se_accuracy_amherst, \n",
    " mean_micro_auc_amherst,se_micro_auc_amherst, mean_wt_auc_amherst_lbfgs,se_wt_auc_amherst)= LINK(percent_initially_unlabelled, ## note: mean_se_model assumes a vector of x% initially labeled\n",
    "                                                              np.array(gender_y), ## gender labels \n",
    "                                                              np.matrix(adj_matrix_gender), ## adjacency matrix\n",
    "                                                              clf = linear_model.LogisticRegression(penalty='l2',\n",
    "                                                                                                    solver='lbfgs',\n",
    "                                                                                                    C=10e20),num_iter=10) \n",
    "\n",
    "\n"
   ]
  },
  {
   "cell_type": "markdown",
   "metadata": {},
   "source": [
    "## 1-hop MV"
   ]
  },
  {
   "cell_type": "code",
   "execution_count": 19,
   "metadata": {
    "collapsed": false
   },
   "outputs": [
    {
     "name": "stdout",
     "output_type": "stream",
     "text": [
      "0.99\n",
      "0.95\n",
      "0.9\n",
      "0.8\n",
      "0.7\n",
      "0.6\n",
      "0.5\n",
      "0.4\n",
      "0.3\n",
      "0.2\n",
      "0.1\n",
      "0.05\n",
      "0.01\n"
     ]
    }
   ],
   "source": [
    "(mean_accuracy_mv_amherst, se_accuracy_mv_amherst, \n",
    " mean_micro_auc_mv_amherst,se_micro_auc_mv_amherst, \n",
    " mean_wt_auc_mv_amherst,se_wt_auc_mv_amherst) =majority_vote_finalized(percent_initially_unlabelled,  \n",
    "                                                                np.array(gender_y), \n",
    "                                                                np.array(adj_matrix_gender), \n",
    "                                                                       num_iter=10)\n",
    "\n"
   ]
  },
  {
   "cell_type": "markdown",
   "metadata": {},
   "source": [
    "## 2-hop MV"
   ]
  },
  {
   "cell_type": "code",
   "execution_count": 20,
   "metadata": {
    "collapsed": true
   },
   "outputs": [],
   "source": [
    "adj_amherst2= np.matrix(adj_matrix_gender)**2\n",
    "adj_amherst2[range(adj_amherst2.shape[0]),range(adj_amherst2.shape[0])]=0\n",
    "\n",
    "\n"
   ]
  },
  {
   "cell_type": "code",
   "execution_count": 21,
   "metadata": {
    "collapsed": false
   },
   "outputs": [
    {
     "name": "stdout",
     "output_type": "stream",
     "text": [
      "0.99\n",
      "0.95\n",
      "0.9\n",
      "0.8\n",
      "0.7\n",
      "0.6\n",
      "0.5\n",
      "0.4\n",
      "0.3\n",
      "0.2\n",
      "0.1\n",
      "0.05\n",
      "0.01\n"
     ]
    }
   ],
   "source": [
    "(mean_accuracy_mv2_amherst2, se_accuracy_mv2_amherst2, \n",
    " mean_micro_auc_mv2_amherst2,se_micro_auc_mv2_amherst2, \n",
    " mean_wt_auc_mv2_amherst2,se_wt_auc_mv2_amherst2) =majority_vote_finalized(percent_initially_unlabelled,  \n",
    "                                                                np.array(gender_y), \n",
    "                                                                np.array(adj_amherst2), \n",
    "                                                                num_iter=10) \n",
    "\n"
   ]
  },
  {
   "cell_type": "code",
   "execution_count": null,
   "metadata": {
    "collapsed": true
   },
   "outputs": [],
   "source": []
  },
  {
   "cell_type": "markdown",
   "metadata": {},
   "source": [
    "## ZGL"
   ]
  },
  {
   "cell_type": "code",
   "execution_count": 22,
   "metadata": {
    "collapsed": false
   },
   "outputs": [
    {
     "name": "stdout",
     "output_type": "stream",
     "text": [
      "0.99\n",
      "0.95\n",
      "0.9\n",
      "0.8\n",
      "0.7\n",
      "0.6\n",
      "0.5\n",
      "0.4\n",
      "0.3\n",
      "0.2\n",
      "0.1\n",
      "0.05\n",
      "0.01\n"
     ]
    }
   ],
   "source": [
    "(mean_accuracy_zgl_amherst, se_accuracy_zgl_amherst, \n",
    "mean_micro_auc_zgl_amherst,se_micro_auc_zgl_amherst, \n",
    "mean_wt_auc_zgl_amherst,se_wt_auc_zgl_amherst) =ZGL_finalized(np.array(adj_matrix_gender),\n",
    "                                    np.array(gender_y),percent_initially_unlabelled, \n",
    "                                    num_iter=10)"
   ]
  },
  {
   "cell_type": "markdown",
   "metadata": {},
   "source": [
    "## PPR"
   ]
  },
  {
   "cell_type": "code",
   "execution_count": 106,
   "metadata": {
    "collapsed": false
   },
   "outputs": [
    {
     "name": "stdout",
     "output_type": "stream",
     "text": [
      "0.99\n",
      "0.95\n",
      "0.9\n",
      "0.8\n",
      "0.7\n",
      "0.6\n",
      "0.5\n",
      "0.4\n",
      "0.3\n",
      "0.2\n",
      "0.1\n",
      "0.05\n",
      "0.01\n"
     ]
    }
   ],
   "source": [
    "(mean_accuracy_amherst_ppr, se_accuracy_amherst_ppr, \n",
    " mean_micro_auc_amherst_ppr,se_micro_auc_amherst_ppr, mean_wt_auc_amherst_ppr,se_wt_auc_amherst_ppr)= ppr_finalized(nx.from_numpy_matrix(adj_matrix_gender),\n",
    "                                                                                                                    percent_initially_unlabelled, ## note: mean_se_model assumes a vector of x% initially labeled\n",
    "                                                              np.array(gender_y), ## gender labels \n",
    "                                                              0, ## adjacency matrix\n",
    "                                                             10,\n",
    "                                                                                                                    cv_setup=None)\n",
    "\n",
    "\n"
   ]
  },
  {
   "cell_type": "markdown",
   "metadata": {},
   "source": [
    "## Add Baseline"
   ]
  },
  {
   "cell_type": "code",
   "execution_count": 83,
   "metadata": {
    "collapsed": true
   },
   "outputs": [],
   "source": [
    "os.chdir('/Users/kristen/Dropbox/gender_graph_data/manuscript/pnas/')\n",
    "execfile('pnas_code/benchmark_classifier.py')"
   ]
  },
  {
   "cell_type": "code",
   "execution_count": 84,
   "metadata": {
    "collapsed": false
   },
   "outputs": [],
   "source": [
    "(mean_wt_auc_baseline_amherst,se_wt_auc_baseline_amherst) = random_classifier(np.array(adj_matrix_gender),\n",
    "                                                                             np.array(gender_y),\n",
    "                                                                            percent_initially_unlabelled,\n",
    "                                                                             num_iter=10)"
   ]
  },
  {
   "cell_type": "code",
   "execution_count": 85,
   "metadata": {
    "collapsed": false
   },
   "outputs": [
    {
     "name": "stdout",
     "output_type": "stream",
     "text": [
      "[0.5, 0.5, 0.5, 0.5, 0.5, 0.5, 0.5, 0.5, 0.5, 0.5, 0.5, 0.5, 0.5]\n",
      "[0.0, 0.0, 0.0, 0.0, 0.0, 0.0, 0.0, 0.0, 0.0, 0.0, 0.0, 0.0, 0.0]\n"
     ]
    }
   ],
   "source": [
    "print mean_wt_auc_baseline_amherst\n",
    "print se_wt_auc_baseline_amherst"
   ]
  },
  {
   "cell_type": "code",
   "execution_count": null,
   "metadata": {
    "collapsed": true
   },
   "outputs": [],
   "source": []
  },
  {
   "cell_type": "code",
   "execution_count": 94,
   "metadata": {
    "collapsed": false
   },
   "outputs": [
    {
     "data": {
      "image/png": "[encoded data removed]",
      "text/plain": [
       "<matplotlib.figure.Figure at 0x1137e11d0>"
      ]
     },
     "metadata": {},
     "output_type": "display_data"
    }
   ],
   "source": [
    "%matplotlib inline\n",
    "from matplotlib.ticker import FixedLocator,LinearLocator,MultipleLocator, FormatStrFormatter\n",
    "os.chdir('/Users/kristen/Dropbox/gender_graph_data/manuscript/pnas/pnas_figures/') \n",
    "\n",
    "fig = plt.figure()\n",
    "seaborn.set_style(style='white')\n",
    "from mpl_toolkits.axes_grid1 import Grid\n",
    "grid = Grid(fig, rect=111, nrows_ncols=(1,1),\n",
    "            axes_pad=0.1, label_mode='L')\n",
    "\n",
    "for i in range(4):\n",
    "    if i == 0:\n",
    "        grid[i].xaxis.set_major_locator(FixedLocator([0,25,50,75,100]))\n",
    "        grid[i].yaxis.set_major_locator(FixedLocator([0.4, 0.5,0.6,0.7,0.8,0.9,1]))\n",
    "\n",
    "        grid[i].errorbar(percent_initially_labelled*100, mean_wt_auc_amherst_lbfgs, \n",
    "            yerr=se_wt_auc_amherst, fmt='--o', capthick=2,\n",
    "            alpha=0.6, elinewidth=3, color='black')\n",
    "        grid[i].errorbar(percent_initially_labelled*100, mean_wt_auc_zgl_amherst,\n",
    "            yerr=se_micro_auc_zgl_amherst, fmt='--o', capthick=2,\n",
    "            alpha=0.6, elinewidth=3, color='orange')\n",
    "        grid[i].errorbar(percent_initially_labelled*100, mean_wt_auc_mv_amherst,\n",
    "            yerr=se_micro_auc_mv_amherst, fmt='--o', capthick=2,\n",
    "            alpha=0.6, elinewidth=3, color='red')\n",
    "        grid[i].errorbar(percent_initially_labelled*100, mean_wt_auc_mv2_amherst2, \n",
    "            yerr=se_micro_auc_mv2_amherst2, fmt='--o', capthick=2,\n",
    "                alpha=0.6, elinewidth=3, color='maroon')\n",
    "        \n",
    "        grid[i].errorbar(percent_initially_labelled*100, mean_wt_auc_baseline_amherst, \n",
    "            yerr=se_wt_auc_baseline_amherst, fmt='--o', capthick=2,\n",
    "                alpha=0.6, elinewidth=3, color='gray')\n",
    "        \n",
    "        #grid[i].errorbar(percent_initially_labelled*100, mean_micro_auc_amherst_ppr, \n",
    "        #    yerr=se_micro_auc_amherst_ppr, fmt='--o', capthick=2,\n",
    "        #        alpha=0.6, elinewidth=3, color='purple')\n",
    "        \n",
    "        \n",
    "        grid[i].set_ylim(0.3,1.1)\n",
    "        grid[i].set_xlim(0,101)\n",
    "        grid[i].annotate('LINK', xy=(3, 0.99), \n",
    "                 color='black', alpha=1, size=12)\n",
    "        #grid[i].annotate('ZGL', xy=(3, 0.93), \n",
    "        #         color='hotpink', alpha=1, size=12)\n",
    "        grid[i].annotate('2-hop MV', xy=(3, 0.96), \n",
    "                 color='maroon', alpha=1, size=12)\n",
    "        grid[i].annotate('1-hop MV', xy=(3, 0.93), \n",
    "                 color='red', alpha=1, size=12)\n",
    "        grid[i].annotate('ZGL', xy=(3, 0.90), \n",
    "                 color='orange', alpha=1, size=12)\n",
    "        grid[i].annotate('Baseline', xy=(3, 0.87), \n",
    "                 color='gray', alpha=1, size=12)\n",
    "        #grid[i].annotate('PPR', xy=(3, 0.87), \n",
    "        #         color='purple', alpha=1, size=12)\n",
    "        grid[i].set_ylim(0.49,1.01)\n",
    "        grid[i].set_xlim(0,100)\n",
    "        grid[i].spines['right'].set_visible(False)\n",
    "        grid[i].spines['top'].set_visible(False)\n",
    "        grid[i].tick_params(axis='both', which='major', labelsize=13)\n",
    "        grid[i].tick_params(axis='both', which='minor', labelsize=13)\n",
    "        grid[i].set_xlabel('Percent of Nodes Initially Labeled')\n",
    "        grid[i].set_ylabel('AUC')\n",
    "\n",
    "plt.setp(ax1, xticks=[0,25, 50, 75, 100], xticklabels=['0', '25', '50', '75', '100'])\n",
    "#plt.xticks([0,0.25, 0.5, 0.75, 1])\n",
    "#plt.minorticks_on()\n",
    "grid[0].set_xticks([0,25, 50, 75, 100])\n",
    "grid[0].set_yticks([ 0.4, 0.5,0.6,0.7,0.8,0.9,1])\n",
    "\n",
    "\n",
    "grid[0].minorticks_on()\n",
    "grid[0].tick_params('both', length=4, width=1, which='major', left=1, bottom=1, top=0, right=0)\n",
    "\n",
    "pp = PdfPages('Amherst_College_Inference.pdf')\n",
    "pp.savefig()\n",
    "pp.close()"
   ]
  },
  {
   "cell_type": "code",
   "execution_count": 7,
   "metadata": {
    "collapsed": false
   },
   "outputs": [],
   "source": [
    "fb_file = '/Users/kristen/Dropbox/gender_graph_data/manuscript/pnas/pnas_output_data/'\n",
    "fb = pd.read_csv(fb_file+'facebook_output_majority_vote.csv')\n",
    "fb_homophily_monophily = pd.read_csv(fb_file+'facebook_homophily_monophily_output_updated.csv')\n",
    "#print fb_hom_mon.columns\n",
    "schools = np.array(['Wellesley22', 'Smith60', 'Simmons81'])\n",
    "fb_subset = fb[~np.in1d(fb.school,schools)] #%in% schools"
   ]
  },
  {
   "cell_type": "code",
   "execution_count": 8,
   "metadata": {
    "collapsed": false
   },
   "outputs": [],
   "source": [
    "fb_final = fb_subset.merge(fb_homophily_monophily, \n",
    "                left_on='school', right_on='school', how='outer')\n",
    "#print fb_final"
   ]
  },
  {
   "cell_type": "code",
   "execution_count": 58,
   "metadata": {
    "collapsed": false
   },
   "outputs": [
    {
     "data": {
      "image/png": "[encoded data removed]",
      "text/plain": [
       "<matplotlib.figure.Figure at 0x1142bed90>"
      ]
     },
     "metadata": {},
     "output_type": "display_data"
    }
   ],
   "source": [
    "%matplotlib inline\n",
    "os.chdir('/Users/kristen/Dropbox/gender_graph_data/manuscript/pnas/pnas_figures/') \n",
    "from mpl_toolkits.axes_grid1 import Grid\n",
    "from matplotlib.ticker import FixedLocator,LinearLocator,MultipleLocator, FormatStrFormatter\n",
    "\n",
    "alpha_parameter = 0.4\n",
    "fig = plt.figure()\n",
    "\n",
    "grid = Grid(fig, rect=111, nrows_ncols=(2,2),\n",
    "            axes_pad=0.6, label_mode='all',\n",
    "           share_all=False)\n",
    "y_min = 0\n",
    "y_max = 250\n",
    "xlabel_block = 0.69 *100\n",
    "label_loc1 = 200\n",
    "label_loc2 = 170\n",
    "\n",
    "\n",
    "for i in range(4):\n",
    "    grid[i].tick_params('both', length=4, width=1, \n",
    "                        which='major', left=1, bottom=1, top=0, right=0)\n",
    "\n",
    "    if i == 0: \n",
    "        grid[i].scatter(fb_final.cc_homophily_F,fb_final.ix[:,2],\n",
    "                     alpha = alpha_parameter, \n",
    "                    color='red')\n",
    "        grid[i].scatter(fb_final.cc_homophily_M,fb_final.ix[:,2],\n",
    "                     alpha = alpha_parameter, \n",
    "                    color='black')\n",
    "\n",
    "        grid[i].set_ylim(0.3,1)\n",
    "        grid[i].set_ylabel('AUC, 1-hop MV')\n",
    "        grid[i].spines['right'].set_visible(False)\n",
    "        grid[i].spines['top'].set_visible(False)\n",
    "        grid[i].set_xlim(0,1)\n",
    "        grid[i].set_xlabel('Homophily Index ($\\hat{h}_F, \\hat{h}_M$)')\n",
    "        grid[i].annotate('Females', xy=(0.05,0.9), \n",
    "                 color='red', alpha=1, size=11)\n",
    "        grid[i].annotate('Males', xy=(0.05,0.8), \n",
    "                 color='black', alpha=1, size=11)\n",
    "\n",
    "\n",
    "\n",
    "    if i == 1:\n",
    "        grid[i].scatter(fb_final.cc_monophily_F,fb_final.ix[:,2],\n",
    "                     alpha = alpha_parameter, \n",
    "                    color='red')\n",
    "        grid[i].scatter(fb_final.cc_monophily_M,fb_final.ix[:,2],\n",
    "                     alpha = alpha_parameter, \n",
    "                    color='black')\n",
    "\n",
    "        #grid[i].set_ylim(0.3,1)\n",
    "        #grid[i].set_xlim(0.3,0.2)\n",
    "\n",
    "        grid[i].spines['right'].set_visible(False)\n",
    "        grid[i].spines['top'].set_visible(False)\n",
    "        grid[i].set_ylabel('AUC, 1-hop MV')\n",
    "        grid[i].set_xlabel('Monophily Index ($\\hat{\\phi}_F, \\hat{\\phi}_M$)')\n",
    "\n",
    "\n",
    "    if i == 2:\n",
    "        grid[i].scatter(fb_final.cc_homophily_F,fb_final.ix[:,4],\n",
    "                     alpha = alpha_parameter, \n",
    "                    color='red')\n",
    "        grid[i].scatter(fb_final.cc_homophily_M,fb_final.ix[:,4],\n",
    "                     alpha = alpha_parameter, \n",
    "                    color='black')\n",
    "        grid[i].set_ylabel('AUC, 2-hop MV')\n",
    "        grid[i].set_ylim(0.3,1)\n",
    "        grid[i].spines['right'].set_visible(False)\n",
    "        grid[i].spines['top'].set_visible(False)\n",
    "        grid[i].set_xlabel('Homophily Index ($\\hat{h}_F, \\hat{h}_M$)')\n",
    "        #grid[i].set_xlim(0,0.1)\n",
    "    if i == 3:\n",
    "        grid[i].scatter(fb_final.cc_monophily_F,fb_final.ix[:,4],\n",
    "                     alpha = alpha_parameter, \n",
    "                    color='red')\n",
    "        grid[i].scatter(fb_final.cc_monophily_M,fb_final.ix[:,4],\n",
    "                     alpha = alpha_parameter, \n",
    "                    color='black')\n",
    "        grid[i].set_xlim(0,0.1)\n",
    "        grid[i].set_ylim(0.3,1)\n",
    "        grid[i].set_ylabel('AUC, 2-hop MV')\n",
    "        grid[i].set_xlabel('Monophily Index ($\\hat{\\phi}_F, \\hat{\\phi}_M$)')\n",
    "\n",
    "        grid[i].spines['right'].set_visible(False)\n",
    "        grid[i].spines['top'].set_visible(False)\n",
    "\n",
    "#plt.tight_layout()\n",
    "pp = PdfPages('FB100_hom_mon_majority_vote.pdf')\n",
    "pp.savefig()\n",
    "pp.close()"
   ]
  },
  {
   "cell_type": "code",
   "execution_count": null,
   "metadata": {
    "collapsed": true
   },
   "outputs": [],
   "source": []
  },
  {
   "cell_type": "code",
   "execution_count": null,
   "metadata": {
    "collapsed": true
   },
   "outputs": [],
   "source": []
  },
  {
   "cell_type": "markdown",
   "metadata": {
    "collapsed": true
   },
   "source": [
    "## old figure of 1-hop MV versus 2-hop MV that tried to show that overdispersion is causing the increased performance in LINK"
   ]
  },
  {
   "cell_type": "code",
   "execution_count": 10,
   "metadata": {
    "collapsed": false
   },
   "outputs": [
    {
     "data": {
      "image/png": "[encoded data removed]",
      "text/plain": [
       "<matplotlib.figure.Figure at 0x116018490>"
      ]
     },
     "metadata": {},
     "output_type": "display_data"
    }
   ],
   "source": [
    "## combine figures\n",
    "os.chdir('/Users/kristen/Dropbox/gender_graph_data/manuscript/pnas/pnas_figures/') \n",
    "\n",
    "\n",
    "%matplotlib inline\n",
    "\n",
    "f, (ax1) = plt.subplots(1, 1, \n",
    "                             sharey=False, sharex=True,\n",
    "                            figsize=(5, 3.5))\n",
    "\n",
    "ax1.plot( [0,1],[0,1] ,'k--',alpha=0.5)\n",
    "\n",
    "\n",
    "ax1.scatter(fb_subset.ix[:,2],\n",
    "           fb_subset.ix[:,4],\n",
    "            color='gray',alpha=0.7,s=15)\n",
    "\n",
    "ax1.set_ylabel('AUC of 2-hop Majority Vote')\n",
    "ax1.set_xlabel('AUC of 1-hop Majority Vote')\n",
    "ax1.spines[\"right\"].set_visible(False)\n",
    "ax1.spines[\"top\"].set_visible(False)\n",
    "ax1.set_xlim(0.36,1)\n",
    "ax1.set_ylim(0.36,1)\n",
    "\n",
    "ax1.set_title('1-hop vs. 2-hop Majority Vote \\n at 50% Initially Labeled (FB100)')\n",
    "\n",
    "\n",
    "\n",
    "\n",
    "plt.tight_layout()\n",
    "pp = PdfPages('FB_MajorityVote.pdf')\n",
    "pp.savefig()\n",
    "pp.close()"
   ]
  },
  {
   "cell_type": "code",
   "execution_count": null,
   "metadata": {
    "collapsed": true
   },
   "outputs": [],
   "source": []
  },
  {
   "cell_type": "code",
   "execution_count": null,
   "metadata": {
    "collapsed": true
   },
   "outputs": [],
   "source": []
  },
  {
   "cell_type": "code",
   "execution_count": 82,
   "metadata": {
    "collapsed": false
   },
   "outputs": [
    {
     "ename": "NameError",
     "evalue": "name 'mean_accuracy_amherst' is not defined",
     "output_type": "error",
     "traceback": [
      "\u001b[0;31m---------------------------------------------------------------------------\u001b[0m",
      "\u001b[0;31mNameError\u001b[0m                                 Traceback (most recent call last)",
      "\u001b[0;32m<ipython-input-82-b7df67fc2a6d>\u001b[0m in \u001b[0;36m<module>\u001b[0;34m()\u001b[0m\n\u001b[1;32m     16\u001b[0m         \u001b[0mgrid\u001b[0m\u001b[0;34m[\u001b[0m\u001b[0mi\u001b[0m\u001b[0;34m]\u001b[0m\u001b[0;34m.\u001b[0m\u001b[0myaxis\u001b[0m\u001b[0;34m.\u001b[0m\u001b[0mset_major_locator\u001b[0m\u001b[0;34m(\u001b[0m\u001b[0mFixedLocator\u001b[0m\u001b[0;34m(\u001b[0m\u001b[0;34m[\u001b[0m\u001b[0;36m0.5\u001b[0m\u001b[0;34m,\u001b[0m\u001b[0;36m0.6\u001b[0m\u001b[0;34m,\u001b[0m\u001b[0;36m0.7\u001b[0m\u001b[0;34m,\u001b[0m\u001b[0;36m0.8\u001b[0m\u001b[0;34m,\u001b[0m\u001b[0;36m0.9\u001b[0m\u001b[0;34m,\u001b[0m\u001b[0;36m1\u001b[0m\u001b[0;34m]\u001b[0m\u001b[0;34m)\u001b[0m\u001b[0;34m)\u001b[0m\u001b[0;34m\u001b[0m\u001b[0m\n\u001b[1;32m     17\u001b[0m \u001b[0;34m\u001b[0m\u001b[0m\n\u001b[0;32m---> 18\u001b[0;31m         grid[i].errorbar(percent_initially_labelled*100, mean_accuracy_amherst, \n\u001b[0m\u001b[1;32m     19\u001b[0m             \u001b[0myerr\u001b[0m\u001b[0;34m=\u001b[0m\u001b[0mse_accuracy_amherst\u001b[0m\u001b[0;34m,\u001b[0m \u001b[0mfmt\u001b[0m\u001b[0;34m=\u001b[0m\u001b[0;34m'--o'\u001b[0m\u001b[0;34m,\u001b[0m \u001b[0mcapthick\u001b[0m\u001b[0;34m=\u001b[0m\u001b[0;36m2\u001b[0m\u001b[0;34m,\u001b[0m\u001b[0;34m\u001b[0m\u001b[0m\n\u001b[1;32m     20\u001b[0m             alpha=0.6, elinewidth=3, color='black')\n",
      "\u001b[0;31mNameError\u001b[0m: name 'mean_accuracy_amherst' is not defined"
     ]
    },
    {
     "data": {
      "image/png": "[encoded data removed]",
      "text/plain": [
       "<matplotlib.figure.Figure at 0x10f193a50>"
      ]
     },
     "metadata": {},
     "output_type": "display_data"
    }
   ],
   "source": [
    "%matplotlib inline\n",
    "from matplotlib.ticker import FixedLocator,LinearLocator,MultipleLocator, FormatStrFormatter\n",
    "os.chdir('/Users/kristen/Dropbox/gender_graph_data/manuscript/pnas/pnas_figures/') \n",
    "\n",
    "\n",
    "\n",
    "fig = plt.figure()\n",
    "seaborn.set_style(style='white')\n",
    "from mpl_toolkits.axes_grid1 import Grid\n",
    "grid = Grid(fig, rect=111, nrows_ncols=(1,1),\n",
    "            axes_pad=0.1, label_mode='L')\n",
    "\n",
    "for i in range(4):\n",
    "    if i == 0:\n",
    "        grid[i].xaxis.set_major_locator(FixedLocator([0,25,50,75,100]))\n",
    "        grid[i].yaxis.set_major_locator(FixedLocator([0.5,0.6,0.7,0.8,0.9,1]))\n",
    "\n",
    "        grid[i].errorbar(percent_initially_labelled*100, mean_accuracy_amherst, \n",
    "            yerr=se_accuracy_amherst, fmt='--o', capthick=2,\n",
    "            alpha=0.6, elinewidth=3, color='black')\n",
    "        grid[i].errorbar(percent_initially_labelled*100, mean_accuracy_zgl_amherst,\n",
    "            yerr=se_accuracy_zgl_amherst, fmt='--o', capthick=2,\n",
    "            alpha=0.6, elinewidth=3, color='orange')\n",
    "        grid[i].errorbar(percent_initially_labelled*100, mean_accuracy_mv_amherst,\n",
    "            yerr=se_accuracy_mv_amherst, fmt='--o', capthick=2,\n",
    "            alpha=0.6, elinewidth=3, color='red')\n",
    "        grid[i].errorbar(percent_initially_labelled*100, mean_accuracy_mv2_amherst2, \n",
    "            yerr=se_accuracy_mv2_amherst2, fmt='--o', capthick=2,\n",
    "                alpha=0.6, elinewidth=3, color='maroon')\n",
    "        \n",
    "        grid[i].errorbar(percent_initially_labelled*100, mean_accuracy_amherst_ppr, \n",
    "            yerr=se_accuracy_amherst_ppr, fmt='--o', capthick=2,\n",
    "                alpha=0.6, elinewidth=3, color='purple')\n",
    "        \n",
    "        \n",
    "        grid[i].set_ylim(0.4,1.1)\n",
    "        grid[i].set_xlim(0,100)\n",
    "        grid[i].annotate('LINK', xy=(3, 0.99), \n",
    "                 color='black', alpha=1, size=12)\n",
    "        #grid[i].annotate('ZGL', xy=(3, 0.93), \n",
    "        #         color='hotpink', alpha=1, size=12)\n",
    "        grid[i].annotate('2-hop MV', xy=(3, 0.96), \n",
    "                 color='maroon', alpha=1, size=12)\n",
    "        grid[i].annotate('1-hop MV', xy=(3, 0.93), \n",
    "                 color='red', alpha=1, size=12)\n",
    "        grid[i].annotate('ZGL', xy=(3, 0.90), \n",
    "                 color='orange', alpha=1, size=12)\n",
    "        grid[i].annotate('PPR', xy=(3, 0.87), \n",
    "                 color='purple', alpha=1, size=12)\n",
    "        grid[i].set_ylim(0.4,1.05)\n",
    "        grid[i].set_xlim(0,100)\n",
    "        grid[i].spines['right'].set_visible(False)\n",
    "        grid[i].spines['top'].set_visible(False)\n",
    "        grid[i].tick_params(axis='both', which='major', labelsize=9)\n",
    "        grid[i].tick_params(axis='both', which='minor', labelsize=9)\n",
    "        grid[i].set_ylabel('Accuracy')\n",
    "\n",
    "\n",
    "\n",
    "fig.text(0.5, 0.9, 'Gender Inference on Amherst College', ha='center', fontsize=13)        \n",
    "fig.text(0.5, 0.01, '% of Nodes Initially Labeled', ha='center', fontsize=13)\n",
    "#fig.text(0.01, 0.5, 'Accuracy', va='center', rotation='vertical', fontsize=13)\n",
    "#plt.show()\n",
    "#plt.tight_layout()\n",
    "pp = PdfPages('Amherst_College_Inference_Accuracy.pdf')\n",
    "pp.savefig()\n",
    "pp.close()"
   ]
  },
  {
   "cell_type": "code",
   "execution_count": null,
   "metadata": {
    "collapsed": true
   },
   "outputs": [],
   "source": []
  },
  {
   "cell_type": "code",
   "execution_count": null,
   "metadata": {
    "collapsed": true
   },
   "outputs": [],
   "source": []
  },
  {
   "cell_type": "code",
   "execution_count": null,
   "metadata": {
    "collapsed": true
   },
   "outputs": [],
   "source": []
  },
  {
   "cell_type": "code",
   "execution_count": null,
   "metadata": {
    "collapsed": true
   },
   "outputs": [],
   "source": []
  },
  {
   "cell_type": "code",
   "execution_count": null,
   "metadata": {
    "collapsed": true
   },
   "outputs": [],
   "source": []
  },
  {
   "cell_type": "markdown",
   "metadata": {
    "collapsed": true
   },
   "source": [
    "## One School from Add Health - Gender - #23"
   ]
  },
  {
   "cell_type": "code",
   "execution_count": 3,
   "metadata": {
    "collapsed": false
   },
   "outputs": [],
   "source": [
    "os.chdir('/Users/kristen/Dropbox/gender_graph_data/manuscript/pnas/')\n",
    "execfile('pnas_code/create_directed_adjacency_matrix.py')\n",
    "execfile('pnas_code/compute_monophily.py')"
   ]
  },
  {
   "cell_type": "code",
   "execution_count": null,
   "metadata": {
    "collapsed": true
   },
   "outputs": [],
   "source": []
  },
  {
   "cell_type": "code",
   "execution_count": 4,
   "metadata": {
    "collapsed": false
   },
   "outputs": [
    {
     "name": "stdout",
     "output_type": "stream",
     "text": [
      "comm23\n",
      "Processing comm23.gml...\n",
      "% of largest components:\n",
      "0.982326951399\n",
      "\n",
      "% of largest components:\n",
      "0.982326951399\n",
      "\n"
     ]
    }
   ],
   "source": [
    "os.chdir('/Users/kristen/Dropbox/gender_graph_data/add-health/converted_gml/')\n",
    "for f in listdir('/Users/kristen/Dropbox/gender_graph_data/add-health/converted_gml/'):\n",
    "    if f.endswith('.gml') and f=='comm23.gml': #and f!='comm25.gml': #f=='comm10.gml':\n",
    "        tag = f.replace('.gml', '')\n",
    "        print tag\n",
    "\n",
    "        id = re.findall(r'\\d+', f)\n",
    "        print \"Processing %s...\" % f\n",
    "\n",
    "        # directed graph\n",
    "        ah_graph_directed = nx.read_gml(f)\n",
    "\n",
    "        # for mutual links\n",
    "        t1 = nx.adj_matrix(ah_graph_directed).todense()\n",
    "        t2 = np.copy(t1.T)\n",
    "        final = ((t1+t2) > 0)+0\n",
    "        \n",
    "        # undirected graph\n",
    "        ah_graph_tmp = nx.read_gml(f)\n",
    "        ah_graph_undirected = ah_graph_tmp.to_undirected()\n",
    "            \n",
    "        ## Add Health -- Undirected: Either In- or Out- Link\n",
    "        (ah_gender_both, adj_gender_both) = create_adj_membership(nx.from_numpy_matrix(final),\n",
    "                                                                   nx.get_node_attributes(ah_graph_directed, 'comm' + str(id[0]) +'sex'),\n",
    "                                                                   0,\n",
    "                                                                   'yes',\n",
    "                                                                   0,\n",
    "                                                                   None, # change adjacency matrix type: out == out-link, in == in-link, any1 == undirected\n",
    "                                                                   'gender')\n",
    "  \n",
    "        ah_gender_both = np.array(map(np.int,ah_gender_both))\n",
    "        #undirected\n",
    "        #(ah_gender_undirected, adj_directed_gender_undirected) = create_adj_membership(ah_graph_undirected,\n",
    "        #                                                           nx.get_node_attributes(ah_graph_undirected, 'comm' + str(id[0]) +'sex'),\n",
    "        #                                                           0,\n",
    "        #                                                           'yes',\n",
    "        #                                                           0,\n",
    "        #                                                           'any1', # change adjacency matrix type: out == out-link, in == in-link, any1 == undirected\n",
    "        #                                                           'gender')\n",
    "        \n",
    "        #trying 1/2/2017\n",
    "        (ah_gender_undirected, adj_directed_gender_undirected) = create_adj_membership(nx.from_numpy_matrix(final),\n",
    "                                                                   nx.get_node_attributes(ah_graph_directed, 'comm' + str(id[0]) +'sex'),\n",
    "                                                                   0,\n",
    "                                                                   'yes',\n",
    "                                                                   0,\n",
    "                                                                   None, # change adjacency matrix type: out == out-link, in == in-link, any1 == undirected\n",
    "                                                                   'gender')\n",
    "        ah_gender_undirected = np.array(map(np.int,ah_gender_undirected))\n",
    "\n",
    "\n",
    "        #in\n",
    "        (ah_gender_in, adj_gender_in) = create_directed_adj_membership(ah_graph_directed,\n",
    "                                                                nx.get_node_attributes(ah_graph_directed, 'comm' + str(id[0]) +'sex'), ## fix for non-mutual links here\n",
    "                                                                   0,\n",
    "                                                                   'yes',\n",
    "                                                                   0,\n",
    "                                                                   'in', # change adjacency matrix type: out == out-link, in == in-link, any1 == undirected\n",
    "                                                                   'gender')\n",
    "        ah_gender_in = np.array(map(np.int,ah_gender_in))\n",
    "\n",
    "\n",
    "        #out-link\n",
    "        (ah_gender_out, adj_gender_out) = create_directed_adj_membership(ah_graph_directed,\n",
    "                                                                nx.get_node_attributes(ah_graph_directed, \n",
    "                                                                                       'comm' + str(id[0]) +'sex'), ## fix for non-mutual links here\n",
    "                                                                   0,\n",
    "                                                                   'yes',\n",
    "                                                                   0,\n",
    "                                                                   'out', # change adjacency matrix type: out == out-link, in == in-link, any1 == undirected\n",
    "                                                                   'gender')\n",
    "        ah_gender_out = np.array(map(np.int,ah_gender_out))\n",
    "\n",
    "\n",
    "\n"
   ]
  },
  {
   "cell_type": "markdown",
   "metadata": {},
   "source": [
    "# Null Distribution for Add Health"
   ]
  },
  {
   "cell_type": "code",
   "execution_count": 48,
   "metadata": {
    "collapsed": true
   },
   "outputs": [],
   "source": [
    "os.chdir('/Users/kristen/Dropbox/gender_graph_data/manuscript/pnas/')\n",
    "execfile('pnas_code/compute_null_distribution.py')"
   ]
  },
  {
   "cell_type": "code",
   "execution_count": 49,
   "metadata": {
    "collapsed": false
   },
   "outputs": [],
   "source": [
    "add_health_null =  compute_null_distribution(adj_directed_gender_undirected, \n",
    "                                ah_gender_undirected, \n",
    "                                100000)"
   ]
  },
  {
   "cell_type": "code",
   "execution_count": 50,
   "metadata": {
    "collapsed": true
   },
   "outputs": [],
   "source": [
    "add_health_obs = compute_observed_same_total_degree(adj_directed_gender_undirected, \n",
    "                                ah_gender_undirected)"
   ]
  },
  {
   "cell_type": "code",
   "execution_count": 51,
   "metadata": {
    "collapsed": false
   },
   "outputs": [
    {
     "name": "stdout",
     "output_type": "stream",
     "text": [
      "[1 2]\n"
     ]
    }
   ],
   "source": [
    "print np.unique(ah_gender_undirected)"
   ]
  },
  {
   "cell_type": "markdown",
   "metadata": {},
   "source": [
    "### undirected graph"
   ]
  },
  {
   "cell_type": "code",
   "execution_count": 52,
   "metadata": {
    "collapsed": false
   },
   "outputs": [
    {
     "data": {
      "image/png": "[encoded data removed]",
      "text/plain": [
       "<matplotlib.figure.Figure at 0x123263810>"
      ]
     },
     "metadata": {},
     "output_type": "display_data"
    }
   ],
   "source": [
    "os.chdir('/Users/kristen/Dropbox/gender_graph_data/manuscript/pnas/pnas_figures/')\n",
    "%matplotlib inline\n",
    "nbins = 20\n",
    "f, (ax1, ax2) = plt.subplots(1, 2, \n",
    "                             sharey=False, sharex=False,\n",
    "                            figsize=(8, 3))\n",
    "ax1.hist(add_health_obs[1],\n",
    "         bins = np.linspace(0,1,nbins),\n",
    "         normed = True,\n",
    "         edgecolor = 'white',\n",
    "        color='red',alpha=0.5)\n",
    "plt.setp(ax1, xticks=[0,0.25, 0.5, 0.75, 1], xticklabels=['0', '0.25', '0.50', '0.75', '1'])\n",
    "ax1.set_xticks([0,0.25, 0.5, 0.75, 1])\n",
    "ax1.minorticks_on()\n",
    "ax1.tick_params('both', length=4, width=1, which='major', left=1, bottom=1, top=0, right=0)\n",
    "ax2.set_xticks([0,0.25, 0.5, 0.75, 1])\n",
    "ax2.minorticks_on()\n",
    "ax2.tick_params('both', length=4, width=1, which='major', left=1, bottom=1, top=0, right=0)\n",
    "ax2.set_ylabel('Normalized Frequency')\n",
    "ax1.set_ylabel('Normalized Frequency')\n",
    "ax2.set_xlabel('Proportion of $in$-class Neighbors, $d_{i,\\\\mathrm{in}}/d_i$')\n",
    "ax1.set_xlabel('Proportion of $in$-class Neighbors, $d_{i,\\\\mathrm{in}}/d_i$')\n",
    "\n",
    "\n",
    "\n",
    "\n",
    "\n",
    "\n",
    "ax1.hist(add_health_null[1],\n",
    "         bins = np.linspace(0,1,nbins),\n",
    "         normed = True,\n",
    "         edgecolor = 'red',histtype='step',\n",
    "        color='white',alpha=1,lw=1)\n",
    "\n",
    "ax1.spines[\"right\"].set_visible(False)\n",
    "ax1.spines[\"top\"].set_visible(False)\n",
    "ax1.set_ylim(0,7)\n",
    "ax2.set_ylim(0,7)\n",
    "\n",
    "\n",
    "\n",
    "ax2.hist(add_health_obs[0],\n",
    "         bins = np.linspace(0,1,nbins),\n",
    "         normed = True,\n",
    "         edgecolor = 'white',\n",
    "        color='black',alpha=0.5)\n",
    "\n",
    "ax2.hist(add_health_null[0],\n",
    "         bins = np.linspace(0,1,nbins),\n",
    "         normed = True,\n",
    "         edgecolor = 'black',histtype='step',\n",
    "        color='white',alpha=1,lw=1.5)\n",
    "ax2.spines[\"right\"].set_visible(False)\n",
    "ax2.spines[\"top\"].set_visible(False)\n",
    "\n",
    "\n",
    "\n",
    "#f.text(0.5, 0.01, 'Proportion of $in$-class degrees, $d_{i,in}/d_i$', ha='center',size=10)\n",
    "f.text(0.5, 0.95, '(undirected)', ha='center',size=10)\n",
    "ax1.annotate('Females', xy=(0.08,6.5), \n",
    "                 color='red', alpha=1, size=12)\n",
    "\n",
    "ax2.annotate('Males', xy=(0.08,6.5), \n",
    "                 color='black', alpha=1, size=12)\n",
    "\n",
    "\n",
    "plt.tight_layout()\n",
    "\n",
    "\n",
    "pp = PdfPages('Add_Health_23_undirected_overdispersion_100k.pdf')\n",
    "pp.savefig()\n",
    "pp.close()"
   ]
  },
  {
   "cell_type": "markdown",
   "metadata": {},
   "source": [
    "## in-directed"
   ]
  },
  {
   "cell_type": "code",
   "execution_count": 53,
   "metadata": {
    "collapsed": true
   },
   "outputs": [],
   "source": [
    "add_health_null =  compute_null_distribution(adj_gender_in, \n",
    "                                ah_gender_in, \n",
    "                                100000)\n",
    "add_health_obs = compute_observed_same_total_degree(adj_gender_in, \n",
    "                                ah_gender_in)\n",
    "\n"
   ]
  },
  {
   "cell_type": "code",
   "execution_count": 54,
   "metadata": {
    "collapsed": false
   },
   "outputs": [
    {
     "data": {
      "image/png": "[encoded data removed]",
      "text/plain": [
       "<matplotlib.figure.Figure at 0x119221190>"
      ]
     },
     "metadata": {},
     "output_type": "display_data"
    }
   ],
   "source": [
    "\n",
    "os.chdir('/Users/kristen/Dropbox/gender_graph_data/manuscript/pnas/pnas_figures/')\n",
    "%matplotlib inline\n",
    "#nbins = 20\n",
    "f, (ax1, ax2) = plt.subplots(1, 2, \n",
    "                             sharey=False, sharex=False,\n",
    "                            figsize=(8, 3))\n",
    "ax1.hist(add_health_obs[1],\n",
    "         bins = np.linspace(0,1,nbins),\n",
    "         normed = True,\n",
    "         edgecolor = 'white',\n",
    "        color='red',alpha=0.5)\n",
    "\n",
    "ax1.hist(add_health_null[1],\n",
    "         bins = np.linspace(0,1,nbins),\n",
    "         normed = True,\n",
    "         edgecolor = 'red',histtype='step',\n",
    "        color='white',alpha=1,lw=1)\n",
    "plt.setp(ax1, xticks=[0,0.25, 0.5, 0.75, 1], xticklabels=['0', '0.25', '0.50', '0.75', '1'])\n",
    "ax1.set_xticks([0,0.25, 0.5, 0.75, 1])\n",
    "ax1.minorticks_on()\n",
    "ax1.tick_params('both', length=4, width=1, which='major', left=1, bottom=1, top=0, right=0)\n",
    "ax2.set_xticks([0,0.25, 0.5, 0.75, 1])\n",
    "ax2.minorticks_on()\n",
    "ax2.tick_params('both', length=4, width=1, which='major', left=1, bottom=1, top=0, right=0)\n",
    "ax2.set_ylabel('Normalized Frequency')\n",
    "ax1.set_ylabel('Normalized Frequency')\n",
    "ax2.set_xlabel('Proportion of $in$-class Neighbors, $d_{i,\\\\mathrm{in}}/d_i$')\n",
    "ax1.set_xlabel('Proportion of $in$-class Neighbors, $d_{i,\\\\mathrm{in}}/d_i$')\n",
    "\n",
    "\n",
    "#ax1.set_ylabel('Frequency')\n",
    "ax1.spines[\"right\"].set_visible(False)\n",
    "ax1.spines[\"top\"].set_visible(False)\n",
    "ax1.set_ylim(0,7)\n",
    "ax2.set_ylim(0,7)\n",
    "\n",
    "\n",
    "\n",
    "ax2.hist(add_health_obs[0],\n",
    "         bins = np.linspace(0,1,nbins),\n",
    "         normed = True,\n",
    "         edgecolor = 'white',\n",
    "        color='black',alpha=0.5)\n",
    "\n",
    "ax2.hist(add_health_null[0],\n",
    "         bins = np.linspace(0,1,nbins),\n",
    "         normed = True,\n",
    "         edgecolor = 'black',histtype='step',\n",
    "        color='white',alpha=1,lw=1.5)\n",
    "ax2.spines[\"right\"].set_visible(False)\n",
    "ax2.spines[\"top\"].set_visible(False)\n",
    "\n",
    "#f.text(0.5, 0.01, 'Proportion of $in$-class degrees, $d_{i,in}/d_i$', ha='center',size=10)\n",
    "f.text(0.5, 0.95, '(in-links)', ha='center',size=10)\n",
    "ax1.annotate('Females', xy=(0.08,6.5), \n",
    "                 color='red', alpha=1, size=12)\n",
    "\n",
    "ax2.annotate('Males', xy=(0.08,6.5), \n",
    "                 color='black', alpha=1, size=12)\n",
    "\n",
    "\n",
    "plt.tight_layout()\n",
    "\n",
    "\n",
    "pp = PdfPages('Add_Health_23_indirected_overdispersion_100k.pdf')\n",
    "pp.savefig()\n",
    "pp.close()"
   ]
  },
  {
   "cell_type": "markdown",
   "metadata": {},
   "source": [
    "## out-directed"
   ]
  },
  {
   "cell_type": "code",
   "execution_count": 55,
   "metadata": {
    "collapsed": true
   },
   "outputs": [],
   "source": [
    "add_health_null =  compute_null_distribution(adj_gender_out, \n",
    "                                ah_gender_out, \n",
    "                                100000)\n",
    "add_health_obs = compute_observed_same_total_degree(adj_gender_out, \n",
    "                                ah_gender_out)\n",
    "\n",
    "\n"
   ]
  },
  {
   "cell_type": "code",
   "execution_count": 56,
   "metadata": {
    "collapsed": false
   },
   "outputs": [
    {
     "data": {
      "image/png": "[encoded data removed]",
      "text/plain": [
       "<matplotlib.figure.Figure at 0x1120fcdd0>"
      ]
     },
     "metadata": {},
     "output_type": "display_data"
    }
   ],
   "source": [
    "os.chdir('/Users/kristen/Dropbox/gender_graph_data/manuscript/pnas/pnas_figures/')\n",
    "%matplotlib inline\n",
    "f, (ax1, ax2) = plt.subplots(1, 2, \n",
    "                             sharey=False, sharex=False,\n",
    "                            figsize=(8, 3))\n",
    "ax1.hist(add_health_obs[1],\n",
    "         bins = np.linspace(0,1,nbins),\n",
    "         normed = True,\n",
    "         edgecolor = 'white',\n",
    "        color='red',alpha=0.5)\n",
    "\n",
    "ax1.hist(add_health_null[1],\n",
    "         bins = np.linspace(0,1,nbins),\n",
    "         normed = True,\n",
    "         edgecolor = 'red',histtype='step',\n",
    "        color='white',alpha=1,lw=1)\n",
    "plt.setp(ax1, xticks=[0,0.25, 0.5, 0.75, 1], xticklabels=['0', '0.25', '0.50', '0.75', '1'])\n",
    "ax1.set_xticks([0,0.25, 0.5, 0.75, 1])\n",
    "ax1.minorticks_on()\n",
    "ax1.tick_params('both', length=4, width=1, which='major', left=1, bottom=1, top=0, right=0)\n",
    "ax2.set_xticks([0,0.25, 0.5, 0.75, 1])\n",
    "ax2.minorticks_on()\n",
    "ax2.tick_params('both', length=4, width=1, which='major', left=1, bottom=1, top=0, right=0)\n",
    "ax2.set_ylabel('Normalized Frequency')\n",
    "ax1.set_ylabel('Normalized Frequency')\n",
    "ax2.set_xlabel('Proportion of $in$-class Neighbors, $d_{i,\\\\mathrm{in}}/d_i$')\n",
    "ax1.set_xlabel('Proportion of $in$-class Neighbors, $d_{i,\\\\mathrm{in}}/d_i$')\n",
    "\n",
    "\n",
    "#ax1.set_ylabel('Frequency')\n",
    "ax1.spines[\"right\"].set_visible(False)\n",
    "ax1.spines[\"top\"].set_visible(False)\n",
    "ax1.set_ylim(0,7)\n",
    "ax2.set_ylim(0,7)\n",
    "\n",
    "\n",
    "ax2.hist(add_health_obs[0],\n",
    "         bins = np.linspace(0,1,nbins),\n",
    "         normed = True,\n",
    "         edgecolor = 'white',\n",
    "        color='black',alpha=0.5)\n",
    "\n",
    "ax2.hist(add_health_null[0],\n",
    "         bins = np.linspace(0,1,nbins),\n",
    "         normed = True,\n",
    "         edgecolor = 'black',histtype='step',\n",
    "        color='white',alpha=1,lw=1.5)\n",
    "ax2.spines[\"right\"].set_visible(False)\n",
    "ax2.spines[\"top\"].set_visible(False)\n",
    "\n",
    "#f.text(0.5, 0.01, 'Proportion of $in$-class degrees, $d_{i,in}/d_i$', ha='center',size=10)\n",
    "f.text(0.5, 0.95, '(out-links)', ha='center',size=10)\n",
    "ax1.annotate('Females', xy=(0.08,6.5), \n",
    "                 color='red', alpha=1, size=12)\n",
    "\n",
    "ax2.annotate('Males', xy=(0.08,6.5), \n",
    "                 color='black', alpha=1, size=12)\n",
    "\n",
    "\n",
    "plt.tight_layout()\n",
    "\n",
    "\n",
    "pp = PdfPages('Add_Health_23_outdirected_overdispersion_100k.pdf')\n",
    "pp.savefig()\n",
    "pp.close()"
   ]
  },
  {
   "cell_type": "code",
   "execution_count": null,
   "metadata": {
    "collapsed": true
   },
   "outputs": [],
   "source": []
  },
  {
   "cell_type": "code",
   "execution_count": null,
   "metadata": {
    "collapsed": true
   },
   "outputs": [],
   "source": []
  },
  {
   "cell_type": "code",
   "execution_count": null,
   "metadata": {
    "collapsed": true
   },
   "outputs": [],
   "source": []
  },
  {
   "cell_type": "code",
   "execution_count": null,
   "metadata": {
    "collapsed": true
   },
   "outputs": [],
   "source": []
  },
  {
   "cell_type": "code",
   "execution_count": null,
   "metadata": {
    "collapsed": true
   },
   "outputs": [],
   "source": []
  },
  {
   "cell_type": "code",
   "execution_count": null,
   "metadata": {
    "collapsed": true
   },
   "outputs": [],
   "source": []
  },
  {
   "cell_type": "code",
   "execution_count": null,
   "metadata": {
    "collapsed": true
   },
   "outputs": [],
   "source": []
  },
  {
   "cell_type": "markdown",
   "metadata": {},
   "source": [
    "## Majority Vote on Add Health Directed - debug - 1/13/2017"
   ]
  },
  {
   "cell_type": "code",
   "execution_count": 240,
   "metadata": {
    "collapsed": true
   },
   "outputs": [],
   "source": [
    "k_fold = cross_validation.ShuffleSplit(len(ah_gender_out), n_iter=1,\n",
    "                                                   test_size=0.5,\n",
    "                                                   random_state=0)"
   ]
  },
  {
   "cell_type": "code",
   "execution_count": 241,
   "metadata": {
    "collapsed": true
   },
   "outputs": [],
   "source": [
    "num_labels = len(np.unique(np.array(ah_gender_out)))\n",
    "class_labels = np.sort(np.unique(np.array(ah_gender_out))) #unique label IDs"
   ]
  },
  {
   "cell_type": "code",
   "execution_count": 242,
   "metadata": {
    "collapsed": false
   },
   "outputs": [],
   "source": [
    "for k, (train, test) in enumerate(k_fold):\n",
    "    labeled_data = np.copy(np.array(ah_gender_out))\n",
    "    ground_truth_testing = np.array(labeled_data)[test]\n",
    "    labeled_data[test]=np.max(class_labels)+1 # ignore testing labels -- don't have access as part of training -- want to assing test label outside of possible training labels\n",
    "            \n",
    "    proportion_class_preference = []\n",
    "    for m in range(num_labels):\n",
    "        proportion_class_preference.append(adj_gender_out * np.matrix((labeled_data==class_labels[m])+0).T/(adj_gender_out * np.matrix((labeled_data!=(np.max(class_labels)+1))+0).T)) ## order of proportions is class_labels[0], class_labels[1], etc.\n",
    "        #proportion_class_preference.append(adj_gender_out * np.matrix((labeled_data==class_labels[m])+0).T/np.sum(adj_gender_out,1))#(adj_gender_out * np.matrix((labeled_data!=(np.max(class_labels)+1))+0).T)) ## order of proportions is class_labels[0], class_labels[1], etc.\n",
    "\n",
    "\n",
    "    preference_by_class_matrix = np.concatenate(proportion_class_preference,1)\n",
    "    baseline_proportions = []\n",
    "    for m in range(num_labels):\n",
    "        baseline_proportions.append((np.sum(labeled_data==class_labels[m])+0)/(np.sum((labeled_data !=np.max(class_labels)+1)+0)))\n"
   ]
  },
  {
   "cell_type": "code",
   "execution_count": 243,
   "metadata": {
    "collapsed": false
   },
   "outputs": [
    {
     "name": "stdout",
     "output_type": "stream",
     "text": [
      "[[ 0.75        0.25      ]\n",
      " [        nan         nan]\n",
      " [ 0.          1.        ]\n",
      " [ 0.33333333  0.66666667]\n",
      " [ 0.          1.        ]\n",
      " [ 0.          1.        ]\n",
      " [ 0.          1.        ]\n",
      " [ 0.66666667  0.33333333]\n",
      " [ 0.5         0.5       ]\n",
      " [ 0.          1.        ]\n",
      " [ 1.          0.        ]\n",
      " [ 0.          1.        ]]\n"
     ]
    }
   ],
   "source": [
    "#50% initially labeled\n",
    "print preference_by_class_matrix[test,][0:12,]\n",
    "#print np.sum(adj_gender_out,1)"
   ]
  },
  {
   "cell_type": "code",
   "execution_count": 244,
   "metadata": {
    "collapsed": false
   },
   "outputs": [
    {
     "name": "stdout",
     "output_type": "stream",
     "text": [
      "[[ 0.75        0.25      ]\n",
      " [        nan         nan]\n",
      " [ 0.          1.        ]\n",
      " [ 0.33333333  0.66666667]\n",
      " [ 0.          1.        ]\n",
      " [ 0.          1.        ]\n",
      " [ 0.          1.        ]\n",
      " [ 0.66666667  0.33333333]\n",
      " [ 0.5         0.5       ]\n",
      " [ 0.          1.        ]\n",
      " [ 1.          0.        ]\n",
      " [ 0.          1.        ]]\n"
     ]
    }
   ],
   "source": [
    "#50% initially labeled\n",
    "print preference_by_class_matrix[test,][0:12,]\n",
    "#print np.sum(adj_gender_out,1)"
   ]
  },
  {
   "cell_type": "code",
   "execution_count": null,
   "metadata": {
    "collapsed": true
   },
   "outputs": [],
   "source": []
  },
  {
   "cell_type": "code",
   "execution_count": null,
   "metadata": {
    "collapsed": true
   },
   "outputs": [],
   "source": []
  },
  {
   "cell_type": "code",
   "execution_count": 245,
   "metadata": {
    "collapsed": false
   },
   "outputs": [],
   "source": [
    "if np.sum(np.isnan(preference_by_class_matrix[:,0])+0) > 0:\n",
    "    preference_by_class_matrix[np.array(np.isnan(preference_by_class_matrix[:,0]).T)[0],:] = np.repeat(np.matrix(baseline_proportions)/np.sum(baseline_proportions), # note: compute RELATIVE proportions\n",
    "                                                                                                               np.sum(np.isnan(preference_by_class_matrix[:,0])+0),\n",
    "                                                                                                            axis=0)\n",
    "\n"
   ]
  },
  {
   "cell_type": "code",
   "execution_count": 246,
   "metadata": {
    "collapsed": false
   },
   "outputs": [
    {
     "name": "stdout",
     "output_type": "stream",
     "text": [
      "[[ 0.5         0.5       ]\n",
      " [ 0.33333333  0.66666667]\n",
      " [ 0.5         0.5       ]\n",
      " [ 0.33333333  0.66666667]\n",
      " [ 0.4         0.6       ]\n",
      " [ 1.          0.        ]\n",
      " [ 0.25        0.75      ]\n",
      " [ 0.33333333  0.66666667]\n",
      " [ 0.          1.        ]\n",
      " [ 0.33333333  0.66666667]\n",
      " [ 0.50488599  0.49511401]\n",
      " [ 0.          1.        ]]\n",
      "\n",
      "[0.50488599348534202, 0.49511400651465798]\n"
     ]
    }
   ],
   "source": [
    "print preference_by_class_matrix[0:12,]\n",
    "print ''\n",
    "print baseline_proportions"
   ]
  },
  {
   "cell_type": "code",
   "execution_count": 247,
   "metadata": {
    "collapsed": false
   },
   "outputs": [
    {
     "name": "stdout",
     "output_type": "stream",
     "text": [
      "0.613636363636\n"
     ]
    }
   ],
   "source": [
    "print metrics.accuracy_score(label_binarize(ah_gender_out[test],np.unique(ah_gender_out)),\n",
    "                                                       ((preference_by_class_matrix[test,:][:,1]) >0.5)+0)"
   ]
  },
  {
   "cell_type": "code",
   "execution_count": 248,
   "metadata": {
    "collapsed": false
   },
   "outputs": [
    {
     "name": "stdout",
     "output_type": "stream",
     "text": [
      "0.690881614235\n"
     ]
    }
   ],
   "source": [
    "print metrics.roc_auc_score(label_binarize(ah_gender_out[test],np.unique(ah_gender_out)),\n",
    "                                  preference_by_class_matrix[test,:][:,1]-preference_by_class_matrix[test,:][:,0],average='micro')"
   ]
  },
  {
   "cell_type": "code",
   "execution_count": 249,
   "metadata": {
    "collapsed": false
   },
   "outputs": [
    {
     "name": "stdout",
     "output_type": "stream",
     "text": [
      "(291, 615)\n",
      "(615, 1)\n"
     ]
    }
   ],
   "source": [
    "print np.shape(adj_gender_out[ah_gender_out==2,])\n",
    "print np.shape(np.matrix((ah_gender_out==2)+0).T)"
   ]
  },
  {
   "cell_type": "code",
   "execution_count": 250,
   "metadata": {
    "collapsed": false
   },
   "outputs": [
    {
     "data": {
      "image/png": "[encoded data removed]",
      "text/plain": [
       "<matplotlib.figure.Figure at 0x1467e1310>"
      ]
     },
     "metadata": {},
     "output_type": "display_data"
    }
   ],
   "source": [
    "%matplotlib inline\n",
    "plt.hist((adj_gender_in[ah_gender_in==2,] * \n",
    "          np.matrix((ah_gender_in==2)+0).T)/np.sum(adj_gender_in[ah_gender_in==2,],1), \n",
    "         color='red',alpha=0.5)\n",
    "plt.hist((adj_gender_in[ah_gender_in==1,] * \n",
    "          np.matrix((ah_gender_in==1)+0).T)/np.sum(adj_gender_in[ah_gender_in==1,],1), \n",
    "         color='blue',alpha=0.5)\n",
    "plt.xlabel('deg_in / total_degree')\n",
    "plt.show()"
   ]
  },
  {
   "cell_type": "code",
   "execution_count": null,
   "metadata": {
    "collapsed": true
   },
   "outputs": [],
   "source": []
  },
  {
   "cell_type": "code",
   "execution_count": 251,
   "metadata": {
    "collapsed": false
   },
   "outputs": [
    {
     "data": {
      "image/png": "[encoded data removed]",
      "text/plain": [
       "<matplotlib.figure.Figure at 0x130866750>"
      ]
     },
     "metadata": {},
     "output_type": "display_data"
    }
   ],
   "source": [
    "%matplotlib inline\n",
    "plt.hist((adj_gender_out[ah_gender_out==2,] * \n",
    "          np.matrix((ah_gender_out==2)+0).T)/np.sum(adj_gender_out[ah_gender_out==2,],1), \n",
    "         color='red',alpha=0.5,normed=True)\n",
    "plt.hist((adj_gender_out[ah_gender_out==1,] * \n",
    "          np.matrix((ah_gender_out==1)+0).T)/np.sum(adj_gender_out[ah_gender_out==1,],1), \n",
    "         color='blue',alpha=0.5, normed=True)\n",
    "plt.xlabel('deg_out / total_degree')\n",
    "plt.show()"
   ]
  },
  {
   "cell_type": "code",
   "execution_count": 252,
   "metadata": {
    "collapsed": false
   },
   "outputs": [
    {
     "name": "stdout",
     "output_type": "stream",
     "text": [
      "324\n",
      "291\n",
      "0.526829268293\n"
     ]
    }
   ],
   "source": [
    "print np.sum((ah_gender_out==1)+0)\n",
    "print np.sum((ah_gender_out==2)+0)\n",
    "print 324/(291+324) #proportion of males"
   ]
  },
  {
   "cell_type": "code",
   "execution_count": 263,
   "metadata": {
    "collapsed": false
   },
   "outputs": [
    {
     "data": {
      "image/png": "[encoded data removed]",
      "text/plain": [
       "<matplotlib.figure.Figure at 0x134247790>"
      ]
     },
     "metadata": {},
     "output_type": "display_data"
    }
   ],
   "source": [
    "%matplotlib inline\n",
    "plt.hist(np.sum(adj_gender_out[ah_gender_out==2,],1), \n",
    "         color='red',alpha=0.5,normed=True)\n",
    "plt.hist(np.sum(adj_gender_out[ah_gender_out==1,],1), \n",
    "         color='blue',alpha=0.5,normed=True)\n",
    "plt.xlabel('total_out_degree')\n",
    "plt.xlim(0,10)\n",
    "plt.show()"
   ]
  },
  {
   "cell_type": "code",
   "execution_count": 270,
   "metadata": {
    "collapsed": false
   },
   "outputs": [
    {
     "data": {
      "text/plain": [
       "10"
      ]
     },
     "execution_count": 270,
     "metadata": {},
     "output_type": "execute_result"
    }
   ],
   "source": [
    "np.max(np.sum(nx.adj_matrix((ah_graph_directed)).todense(),1))"
   ]
  },
  {
   "cell_type": "code",
   "execution_count": 269,
   "metadata": {
    "collapsed": false
   },
   "outputs": [
    {
     "data": {
      "image/png": "[encoded data removed]",
      "text/plain": [
       "<matplotlib.figure.Figure at 0x117953850>"
      ]
     },
     "metadata": {},
     "output_type": "display_data"
    }
   ],
   "source": [
    "%matplotlib inline\n",
    "plt.hist(np.sum(nx.adj_matrix((ah_graph_directed)).todense(),1), \n",
    "         color='gray',alpha=0.5)\n",
    "plt.xlabel('total_out_degree')\n",
    "plt.show()"
   ]
  },
  {
   "cell_type": "code",
   "execution_count": 262,
   "metadata": {
    "collapsed": false
   },
   "outputs": [
    {
     "data": {
      "image/png": "[encoded data removed]",
      "text/plain": [
       "<matplotlib.figure.Figure at 0x134247d50>"
      ]
     },
     "metadata": {},
     "output_type": "display_data"
    }
   ],
   "source": [
    "%matplotlib inline\n",
    "plt.hist(np.sum(nx.adj_matrix((ah_graph_directed)).todense().T,1), \n",
    "         color='gray',alpha=0.5)\n",
    "plt.xlabel('total_in_degree')\n",
    "plt.show()"
   ]
  },
  {
   "cell_type": "code",
   "execution_count": null,
   "metadata": {
    "collapsed": true
   },
   "outputs": [],
   "source": []
  },
  {
   "cell_type": "code",
   "execution_count": 257,
   "metadata": {
    "collapsed": false
   },
   "outputs": [],
   "source": [
    "y_tmp = np.array(nx.get_node_attributes(ah_graph_directed, 'comm' + str(id[0]) +'sex').values())\n",
    "adj_tmp = nx.adj_matrix((ah_graph_directed)).todense()"
   ]
  },
  {
   "cell_type": "code",
   "execution_count": 258,
   "metadata": {
    "collapsed": false
   },
   "outputs": [],
   "source": [
    "val2 =np.array((adj_tmp[y_tmp==2,] * \n",
    "          np.matrix((y_tmp==2)+0).T)/np.sum(adj_tmp[y_tmp==2,],1)).T[0]\n",
    "val1 =np.array((adj_tmp[y_tmp==1,] * \n",
    "          np.matrix((y_tmp==1)+0).T)/np.sum(adj_tmp[y_tmp==1,],1)).T[0]\n",
    "\n",
    "\n",
    "#val2[~np.isnan(val2)]"
   ]
  },
  {
   "cell_type": "code",
   "execution_count": 259,
   "metadata": {
    "collapsed": false
   },
   "outputs": [
    {
     "data": {
      "image/png": "[encoded data removed]",
      "text/plain": [
       "<matplotlib.figure.Figure at 0x13298e3d0>"
      ]
     },
     "metadata": {},
     "output_type": "display_data"
    }
   ],
   "source": [
    "%matplotlib inline\n",
    "plt.hist(val2[~np.isnan(val2)], \n",
    "         color='red',alpha=0.5)\n",
    "plt.hist(val1[~np.isnan(val1)], \n",
    "         color='blue',alpha=0.5)\n",
    "\n",
    "plt.xlabel('deg_in / total_degree')\n",
    "plt.show()"
   ]
  },
  {
   "cell_type": "code",
   "execution_count": null,
   "metadata": {
    "collapsed": true
   },
   "outputs": [],
   "source": []
  },
  {
   "cell_type": "code",
   "execution_count": null,
   "metadata": {
    "collapsed": true
   },
   "outputs": [],
   "source": []
  },
  {
   "cell_type": "code",
   "execution_count": 35,
   "metadata": {
    "collapsed": false
   },
   "outputs": [],
   "source": [
    "monophily_gender = monophily_index_overdispersion_Williams(adj_gender_out, ah_gender_out)"
   ]
  },
  {
   "cell_type": "code",
   "execution_count": null,
   "metadata": {
    "collapsed": true
   },
   "outputs": [],
   "source": []
  },
  {
   "cell_type": "code",
   "execution_count": null,
   "metadata": {
    "collapsed": true
   },
   "outputs": [],
   "source": []
  },
  {
   "cell_type": "code",
   "execution_count": 13,
   "metadata": {
    "collapsed": false
   },
   "outputs": [
    {
     "name": "stdout",
     "output_type": "stream",
     "text": [
      "[[ 1  2]\n",
      " [40 50]]\n",
      "[[ 3]\n",
      " [90]]\n"
     ]
    }
   ],
   "source": [
    "temp = np.matrix([[1,2],[40,50]])\n",
    "print temp\n",
    "print np.sum(temp,1)"
   ]
  },
  {
   "cell_type": "code",
   "execution_count": null,
   "metadata": {
    "collapsed": true
   },
   "outputs": [],
   "source": []
  },
  {
   "cell_type": "code",
   "execution_count": null,
   "metadata": {
    "collapsed": true
   },
   "outputs": [],
   "source": []
  },
  {
   "cell_type": "markdown",
   "metadata": {},
   "source": [
    "## debugging Add Health -- directed adjacency matrix set-up"
   ]
  },
  {
   "cell_type": "code",
   "execution_count": 36,
   "metadata": {
    "collapsed": false
   },
   "outputs": [
    {
     "name": "stdout",
     "output_type": "stream",
     "text": [
      "comm23\n",
      "Processing comm23.gml...\n",
      "679\n",
      "\n",
      "679\n"
     ]
    }
   ],
   "source": [
    "os.chdir('/Users/kristen/Dropbox/gender_graph_data/add-health/converted_gml/')\n",
    "for f in listdir('/Users/kristen/Dropbox/gender_graph_data/add-health/converted_gml/'):\n",
    "    if f.endswith('.gml') and f=='comm23.gml': #and f!='comm25.gml': #f=='comm10.gml':\n",
    "        tag = f.replace('.gml', '')\n",
    "        print tag\n",
    "\n",
    "        id = re.findall(r'\\d+', f)\n",
    "        print \"Processing %s...\" % f\n",
    "\n",
    "        # directed graph\n",
    "        ah_graph_directed = nx.read_gml(f)\n",
    "\n",
    "        print len(nx.nodes(ah_graph_directed))\n",
    "        print ''\n",
    "        \n",
    "        # undirected graph\n",
    "        ah_graph_tmp = nx.read_gml(f)\n",
    "        ah_graph_undirected = ah_graph_tmp.to_undirected()\n",
    "        print len(nx.nodes(ah_graph_undirected))"
   ]
  },
  {
   "cell_type": "code",
   "execution_count": 65,
   "metadata": {
    "collapsed": true
   },
   "outputs": [],
   "source": [
    "dictionary = nx.get_node_attributes(ah_graph_directed, 'comm' + str(id[0]) +'sex')"
   ]
  },
  {
   "cell_type": "code",
   "execution_count": 66,
   "metadata": {
    "collapsed": false
   },
   "outputs": [
    {
     "name": "stdout",
     "output_type": "stream",
     "text": [
      "(679, 679)\n"
     ]
    }
   ],
   "source": [
    "## walk through step-by-step setting up directed graph\n",
    "keys = np.array(range(len(dictionary.keys()))) ## update keys\n",
    "y_vector = np.array(dictionary.values()) ## we relabel keys but this preserves corresponding value with updated keys\n",
    "adj_matrix_input = nx.adj_matrix(ah_graph_directed).todense() # note: will automatically be an out-link matrix when graph is directed\n",
    "nx.set_node_attributes(ah_graph_directed,'gender',dictionary)\n",
    "print np.shape(adj_matrix_input)\n",
    "adj_matrix_input = nx.adj_matrix(ah_graph_directed).todense().T"
   ]
  },
  {
   "cell_type": "code",
   "execution_count": 69,
   "metadata": {
    "collapsed": false
   },
   "outputs": [
    {
     "name": "stdout",
     "output_type": "stream",
     "text": [
      "[0 1 2]\n",
      "369\n",
      "309\n"
     ]
    }
   ],
   "source": [
    "print np.unique(y_vector)\n",
    "print np.sum((y_vector==1)+0)\n",
    "print np.sum((y_vector==2)+0)"
   ]
  },
  {
   "cell_type": "code",
   "execution_count": 45,
   "metadata": {
    "collapsed": true
   },
   "outputs": [],
   "source": [
    "A_final = np.copy(adj_matrix_input)\n",
    "directed_type = 'in'"
   ]
  },
  {
   "cell_type": "code",
   "execution_count": 46,
   "metadata": {
    "collapsed": false
   },
   "outputs": [
    {
     "name": "stdout",
     "output_type": "stream",
     "text": [
      "False\n"
     ]
    }
   ],
   "source": [
    "print np.sum((np.sum(A_final,1)==0)+0)>0 and directed_type != 'in' and directed_type != 'out'"
   ]
  },
  {
   "cell_type": "code",
   "execution_count": 64,
   "metadata": {
    "collapsed": true
   },
   "outputs": [],
   "source": [
    "(ah_gender_in, adj_gender_in) = create_directed_adj_membership(ah_graph_directed,\n",
    "                                                                nx.get_node_attributes(ah_graph_directed, 'comm' + str(id[0]) +'sex'), ## fix for non-mutual links here\n",
    "                                                                   0,\n",
    "                                                                   'yes',\n",
    "                                                                   0,\n",
    "                                                                   'in', # change adjacency matrix type: out == out-link, in == in-link, any1 == undirected\n",
    "                                                                   'gender')"
   ]
  },
  {
   "cell_type": "code",
   "execution_count": 65,
   "metadata": {
    "collapsed": false
   },
   "outputs": [
    {
     "name": "stdout",
     "output_type": "stream",
     "text": [
      "(643,)\n",
      "(643, 643)\n",
      "(678,)\n"
     ]
    }
   ],
   "source": [
    "print np.shape(ah_gender_in)\n",
    "print np.shape(adj_gender_in)\n",
    "print np.shape(ah_gender_in_full)"
   ]
  },
  {
   "cell_type": "code",
   "execution_count": null,
   "metadata": {
    "collapsed": true
   },
   "outputs": [],
   "source": []
  },
  {
   "cell_type": "code",
   "execution_count": null,
   "metadata": {
    "collapsed": true
   },
   "outputs": [],
   "source": []
  },
  {
   "cell_type": "code",
   "execution_count": 5,
   "metadata": {
    "collapsed": true
   },
   "outputs": [],
   "source": [
    "os.chdir('/Users/kristen/Dropbox/gender_graph_data/manuscript/pnas/')\n",
    "\n",
    "execfile('pnas_code/LINK_finalized.py')"
   ]
  },
  {
   "cell_type": "code",
   "execution_count": 6,
   "metadata": {
    "collapsed": true
   },
   "outputs": [],
   "source": [
    "percent_initially_unlabelled = [0.98,0.95,0.9,0.8,0.7,0.6,0.5,0.4,0.3,0.2,0.1,0.05]\n",
    "percent_initially_labelled = np.subtract(1, percent_initially_unlabelled)"
   ]
  },
  {
   "cell_type": "markdown",
   "metadata": {},
   "source": [
    "## LINK "
   ]
  },
  {
   "cell_type": "code",
   "execution_count": 7,
   "metadata": {
    "collapsed": false
   },
   "outputs": [
    {
     "name": "stdout",
     "output_type": "stream",
     "text": [
      "0.98\n",
      "0.95\n",
      "0.9\n",
      "0.8\n",
      "0.7\n",
      "0.6\n",
      "0.5\n",
      "0.4\n",
      "0.3\n",
      "0.2\n",
      "0.1\n",
      "0.05\n"
     ]
    }
   ],
   "source": [
    "#undirected\n",
    "(mean_accuracy_ah_both, se_accuracy_ah_both, \n",
    " mean_micro_auc_ah_both,se_micro_auc_ah_both, mean_wt_auc_ah_both,se_wt_auc_ah_both)= LINK(percent_initially_unlabelled, ## note: mean_se_model assumes a vector of x% initially labeled\n",
    "                                                              np.array(ah_gender_both), ## gender labels \n",
    "                                                              np.array(adj_gender_both), ## adjacency matrix\n",
    "                                                              clf = linear_model.LogisticRegression(penalty='l2',\n",
    "                                                                                                    C=10e20,\n",
    "                                                                                                   solver='lbfgs'),\n",
    "                                                                        num_iter=10,\n",
    "                                                            cv_setup='None') \n",
    "\n",
    "\n",
    "\n"
   ]
  },
  {
   "cell_type": "code",
   "execution_count": 8,
   "metadata": {
    "collapsed": false
   },
   "outputs": [
    {
     "name": "stdout",
     "output_type": "stream",
     "text": [
      "0.98\n",
      "0.95\n",
      "0.9\n",
      "0.8\n",
      "0.7\n",
      "0.6\n",
      "0.5\n",
      "0.4\n",
      "0.3\n",
      "0.2\n",
      "0.1\n",
      "0.05\n"
     ]
    }
   ],
   "source": [
    "#undirected\n",
    "(mean_accuracy_ah_undirect, se_accuracy_ah_undirect, \n",
    " mean_micro_auc_ah_undirect,se_micro_auc_ah_undirect, mean_wt_auc_ah_undirect,se_wt_auc_ah_undirect)= LINK(percent_initially_unlabelled, ## note: mean_se_model assumes a vector of x% initially labeled\n",
    "                                                              np.array(ah_gender_undirected), ## gender labels \n",
    "                                                              np.matrix(adj_directed_gender_undirected), ## adjacency matrix\n",
    "                                                              clf = linear_model.LogisticRegression(penalty='l2',\n",
    "                                                                                                    C=10e20,\n",
    "                                                                                                   solver='lbfgs'),\n",
    "                                                                        num_iter=10,\n",
    "                                                            cv_setup='None') \n",
    "\n",
    "\n"
   ]
  },
  {
   "cell_type": "code",
   "execution_count": 9,
   "metadata": {
    "collapsed": false
   },
   "outputs": [
    {
     "name": "stdout",
     "output_type": "stream",
     "text": [
      "0.98\n",
      "0.95\n",
      "0.9\n",
      "0.8\n",
      "0.7\n",
      "0.6\n",
      "0.5\n",
      "0.4\n",
      "0.3\n",
      "0.2\n",
      "0.1\n",
      "0.05\n"
     ]
    }
   ],
   "source": [
    "#in\n",
    "(mean_accuracy_ah_in, se_accuracy_ah_in, \n",
    " mean_micro_auc_ah_in,se_micro_auc_ah_in, mean_wt_auc_ah_in,se_wt_auc_ah_in)= LINK(percent_initially_unlabelled, ## note: mean_se_model assumes a vector of x% initially labeled\n",
    "                                                              np.array(ah_gender_in), ## gender labels \n",
    "                                                              np.matrix(adj_gender_in), ## adjacency matrix\n",
    "                                                              clf = linear_model.LogisticRegression(penalty='l2',\n",
    "                                                                                                    C=10e20,\n",
    "                                                                                                   solver='lbfgs'),\n",
    "                                                                        num_iter=10,\n",
    "                                                            cv_setup=None) \n",
    "\n",
    "\n",
    "\n"
   ]
  },
  {
   "cell_type": "code",
   "execution_count": 60,
   "metadata": {
    "collapsed": false
   },
   "outputs": [
    {
     "name": "stdout",
     "output_type": "stream",
     "text": [
      "[0.48219716405056562, 0.48434434844232754, 0.48866327252513314, 0.48512797486342701, 0.4930274644603263, 0.49215374939450457, 0.5017753395241078, 0.50587485801304344, 0.50810735806245189, 0.50736201657854185, 0.51883814068885103, 0.51428446685410001]\n"
     ]
    }
   ],
   "source": [
    "print mean_micro_auc_ah_in"
   ]
  },
  {
   "cell_type": "code",
   "execution_count": 10,
   "metadata": {
    "collapsed": false
   },
   "outputs": [
    {
     "name": "stdout",
     "output_type": "stream",
     "text": [
      "0.98\n",
      "0.95\n",
      "0.9\n",
      "0.8\n",
      "0.7\n",
      "0.6\n",
      "0.5\n",
      "0.4\n",
      "0.3\n",
      "0.2\n",
      "0.1\n",
      "0.05\n"
     ]
    }
   ],
   "source": [
    "#out\n",
    "(mean_accuracy_ah_out, se_accuracy_ah_out, \n",
    " mean_micro_auc_ah_out,se_micro_auc_ah_out, mean_wt_auc_ah_out,se_wt_auc_ah_out)= LINK(percent_initially_unlabelled, ## note: mean_se_model assumes a vector of x% initially labeled\n",
    "                                                              np.array(ah_gender_out), ## gender labels \n",
    "                                                              np.matrix(adj_gender_out), ## adjacency matrix\n",
    "                                                              clf = linear_model.LogisticRegression(penalty='l2',\n",
    "                                                                                                    C=10e20,\n",
    "                                                                                                   solver='lbfgs'),\n",
    "                                                                        num_iter=10,\n",
    "                                                            cv_setup=None) \n",
    "\n",
    "\n",
    "\n",
    "\n"
   ]
  },
  {
   "cell_type": "markdown",
   "metadata": {},
   "source": [
    "## 1-hop MV"
   ]
  },
  {
   "cell_type": "code",
   "execution_count": null,
   "metadata": {
    "collapsed": false
   },
   "outputs": [],
   "source": [
    "#both\n",
    "(mean_accuracy_mv_ah_both, se_accuracy_mv_ah_both, \n",
    " mean_micro_auc_mv_ah_both,se_micro_auc_mv_ah_both, \n",
    " mean_wt_auc_mv_ah_both,se_wt_auc_mv_ah_both) =majority_vote_finalized(percent_initially_unlabelled,  \n",
    "                                                                np.array(ah_gender_both), \n",
    "                                                                np.array(adj_gender_both), \n",
    "                                                                       num_iter=10,\n",
    "                                                                  cv_setup='stratified')\n",
    "\n",
    "\n"
   ]
  },
  {
   "cell_type": "code",
   "execution_count": 29,
   "metadata": {
    "collapsed": false
   },
   "outputs": [
    {
     "ename": "NameError",
     "evalue": "name 'mean_wt_auc_mv_ah_both' is not defined",
     "output_type": "error",
     "traceback": [
      "\u001b[0;31m---------------------------------------------------------------------------\u001b[0m",
      "\u001b[0;31mNameError\u001b[0m                                 Traceback (most recent call last)",
      "\u001b[0;32m<ipython-input-29-3bcedbfb0423>\u001b[0m in \u001b[0;36m<module>\u001b[0;34m()\u001b[0m\n\u001b[0;32m----> 1\u001b[0;31m \u001b[0;32mprint\u001b[0m \u001b[0mmean_wt_auc_mv_ah_both\u001b[0m\u001b[0;34m\u001b[0m\u001b[0m\n\u001b[0m",
      "\u001b[0;31mNameError\u001b[0m: name 'mean_wt_auc_mv_ah_both' is not defined"
     ]
    }
   ],
   "source": [
    "print mean_wt_auc_mv_ah_both"
   ]
  },
  {
   "cell_type": "code",
   "execution_count": 30,
   "metadata": {
    "collapsed": false
   },
   "outputs": [
    {
     "name": "stdout",
     "output_type": "stream",
     "text": [
      "0.99\n",
      "0.95\n",
      "0.9\n",
      "0.8\n",
      "0.7\n",
      "0.6\n",
      "0.5\n",
      "0.4\n",
      "0.3\n",
      "0.2\n",
      "0.1\n",
      "0.05\n"
     ]
    }
   ],
   "source": [
    "#undirected\n",
    "(mean_accuracy_mv_ah_un, se_accuracy_mv_ah_un, \n",
    " mean_micro_auc_mv_ah_un,se_micro_auc_mv_ah_un, \n",
    " mean_wt_auc_mv_ah_un,se_wt_auc_mv_ah_un) =majority_vote_finalized(percent_initially_unlabelled,  \n",
    "                                                                np.array(ah_gender_undirected), \n",
    "                                                                np.array(adj_directed_gender_undirected), \n",
    "                                                                       num_iter=10,\n",
    "                                                                  cv_setup='stratified')\n",
    "\n",
    "\n"
   ]
  },
  {
   "cell_type": "code",
   "execution_count": 31,
   "metadata": {
    "collapsed": false
   },
   "outputs": [
    {
     "name": "stdout",
     "output_type": "stream",
     "text": [
      "[0.50984090005639215, 0.52714123510379618, 0.54879450706745403, 0.58339498299319725, 0.62073551125876703, 0.65022141706924308, 0.67379629629629634, 0.67837341915085825, 0.69837459742351038, 0.68118279569892481, 0.72101254480286736, 0.71718750000000009]\n"
     ]
    }
   ],
   "source": [
    "print mean_wt_auc_mv_ah_un"
   ]
  },
  {
   "cell_type": "code",
   "execution_count": null,
   "metadata": {
    "collapsed": true
   },
   "outputs": [],
   "source": []
  },
  {
   "cell_type": "code",
   "execution_count": 32,
   "metadata": {
    "collapsed": false
   },
   "outputs": [
    {
     "name": "stdout",
     "output_type": "stream",
     "text": [
      "0.99\n",
      "0.95\n",
      "0.9\n",
      "0.8\n",
      "0.7\n",
      "0.6\n",
      "0.5\n",
      "0.4\n",
      "0.3\n",
      "0.2\n",
      "0.1\n",
      "0.05\n"
     ]
    }
   ],
   "source": [
    "(mean_accuracy_mv_ah_in, se_accuracy_mv_ah_in, \n",
    " mean_micro_auc_mv_ah_in,se_micro_auc_mv_ah_in, \n",
    " mean_wt_auc_mv_ah_in,se_wt_auc_mv_ah_in) =majority_vote_finalized(percent_initially_unlabelled,  \n",
    "                                                                np.array(ah_gender_in), \n",
    "                                                                np.array(adj_gender_in), \n",
    "                                                                       num_iter=10,\n",
    "                                                                  cv_setup='stratified')\n",
    "\n",
    "\n"
   ]
  },
  {
   "cell_type": "code",
   "execution_count": 33,
   "metadata": {
    "collapsed": false
   },
   "outputs": [
    {
     "name": "stdout",
     "output_type": "stream",
     "text": [
      "0.99\n",
      "0.95\n",
      "0.9\n",
      "0.8\n",
      "0.7\n",
      "0.6\n",
      "0.5\n",
      "0.4\n",
      "0.3\n",
      "0.2\n",
      "0.1\n",
      "0.05\n"
     ]
    }
   ],
   "source": [
    "(mean_accuracy_mv_ah_out, se_accuracy_mv_ah_out, \n",
    " mean_micro_auc_mv_ah_out,se_micro_auc_mv_ah_out, \n",
    " mean_wt_auc_mv_ah_out,se_wt_auc_mv_ah_out) =majority_vote_finalized(percent_initially_unlabelled,  \n",
    "                                                                np.array(ah_gender_out), \n",
    "                                                                np.array(adj_gender_out), \n",
    "                                                                       num_iter=10,\n",
    "                                                                  cv_setup='stratified')\n",
    "\n",
    "\n",
    "\n"
   ]
  },
  {
   "cell_type": "code",
   "execution_count": null,
   "metadata": {
    "collapsed": true
   },
   "outputs": [],
   "source": []
  },
  {
   "cell_type": "markdown",
   "metadata": {},
   "source": [
    "## 2-hop MV"
   ]
  },
  {
   "cell_type": "code",
   "execution_count": 34,
   "metadata": {
    "collapsed": true
   },
   "outputs": [],
   "source": [
    "adj_directed_gender_undirected2= np.matrix(adj_directed_gender_undirected)**2\n",
    "adj_directed_gender_undirected2[range(adj_directed_gender_undirected2.shape[0]),range(adj_directed_gender_undirected2.shape[0])]=0\n",
    "\n"
   ]
  },
  {
   "cell_type": "code",
   "execution_count": 35,
   "metadata": {
    "collapsed": true
   },
   "outputs": [],
   "source": [
    "adj_directed_gender_undirected2= np.matrix(adj_directed_gender_undirected)**2\n",
    "adj_directed_gender_undirected2[range(adj_directed_gender_undirected2.shape[0]),range(adj_directed_gender_undirected2.shape[0])]=0\n",
    "\n",
    "\n",
    "adj_directed_gender_in2= np.matrix(adj_gender_in)**2\n",
    "adj_directed_gender_in2[range(adj_directed_gender_in2.shape[0]),range(adj_directed_gender_in2.shape[0])]=0\n",
    "\n",
    "adj_directed_gender_out2= np.matrix(adj_gender_out)**2\n",
    "adj_directed_gender_out2[range(adj_directed_gender_out2.shape[0]),range(adj_directed_gender_out2.shape[0])]=0\n",
    "\n"
   ]
  },
  {
   "cell_type": "code",
   "execution_count": 36,
   "metadata": {
    "collapsed": false
   },
   "outputs": [
    {
     "name": "stdout",
     "output_type": "stream",
     "text": [
      "0.99\n",
      "0.95\n",
      "0.9\n",
      "0.8\n",
      "0.7\n",
      "0.6\n",
      "0.5\n",
      "0.4\n",
      "0.3\n",
      "0.2\n",
      "0.1\n",
      "0.05\n"
     ]
    }
   ],
   "source": [
    "(mean_accuracy_mv2_ah_undirected, se_accuracy_mv2_ah_undirected, \n",
    " mean_micro_auc_mv2_ah_undirected,se_micro_auc_mv2_ah_undirected, \n",
    " mean_wt_auc_mv2_ah_undirected,se_wt_auc_mv2_ah_undirected) =majority_vote_finalized(percent_initially_unlabelled,  \n",
    "                                                                np.array(ah_gender_undirected), \n",
    "                                                                np.array(adj_directed_gender_undirected2), \n",
    "                                                                num_iter=10,\n",
    "                                                                  cv_setup='stratified')\n",
    "\n",
    "\n"
   ]
  },
  {
   "cell_type": "code",
   "execution_count": 37,
   "metadata": {
    "collapsed": false
   },
   "outputs": [
    {
     "name": "stdout",
     "output_type": "stream",
     "text": [
      "0.99\n",
      "0.95\n",
      "0.9\n",
      "0.8\n",
      "0.7\n",
      "0.6\n",
      "0.5\n",
      "0.4\n",
      "0.3\n",
      "0.2\n",
      "0.1\n",
      "0.05\n"
     ]
    }
   ],
   "source": [
    "(mean_accuracy_mv2_ah_in, se_accuracy_mv2_ah_in, \n",
    " mean_micro_auc_mv2_ah_in,se_micro_auc_mv2_ah_in, \n",
    " mean_wt_auc_mv2_ah_in,se_wt_auc_mv2_ah_in) =majority_vote_finalized(percent_initially_unlabelled,  \n",
    "                                                                np.array(ah_gender_in), \n",
    "                                                                np.array(adj_directed_gender_in2), \n",
    "                                                                num_iter=10,\n",
    "                                                                  cv_setup='stratified')\n",
    "\n",
    "\n",
    "\n"
   ]
  },
  {
   "cell_type": "code",
   "execution_count": 38,
   "metadata": {
    "collapsed": false
   },
   "outputs": [
    {
     "name": "stdout",
     "output_type": "stream",
     "text": [
      "0.99\n",
      "0.95\n",
      "0.9\n",
      "0.8\n",
      "0.7\n",
      "0.6\n",
      "0.5\n",
      "0.4\n",
      "0.3\n",
      "0.2\n",
      "0.1\n",
      "0.05\n"
     ]
    }
   ],
   "source": [
    "(mean_accuracy_mv2_ah_out, se_accuracy_mv2_ah_out, \n",
    " mean_micro_auc_mv2_ah_out,se_micro_auc_mv2_ah_out, \n",
    " mean_wt_auc_mv2_ah_out,se_wt_auc_mv2_ah_out) =majority_vote_finalized(percent_initially_unlabelled,  \n",
    "                                                                np.array(ah_gender_out), \n",
    "                                                                np.array(adj_directed_gender_out2), \n",
    "                                                                num_iter=10,\n",
    "                                                                  cv_setup='stratified')\n",
    "\n",
    "\n",
    "\n"
   ]
  },
  {
   "cell_type": "markdown",
   "metadata": {},
   "source": [
    "## ZGL"
   ]
  },
  {
   "cell_type": "code",
   "execution_count": 39,
   "metadata": {
    "collapsed": false
   },
   "outputs": [
    {
     "name": "stdout",
     "output_type": "stream",
     "text": [
      "0.99\n",
      "0.95\n",
      "0.9\n",
      "0.8\n",
      "0.7\n",
      "0.6\n",
      "0.5\n",
      "0.4\n",
      "0.3\n",
      "0.2\n",
      "0.1\n",
      "0.05\n"
     ]
    }
   ],
   "source": [
    "#undirected\n",
    "(mean_accuracy_zgl_ah_undirected, se_accuracy_zgl_ah_undirected, \n",
    "mean_micro_auc_zgl_ah_undirected,se_micro_auc_zgl_ah_undirected, \n",
    "mean_wt_auc_zgl_ah_undirected,se_wt_auc_zgl_ah_undirected) =ZGL_finalized(np.array(adj_directed_gender_undirected),\n",
    "                                    np.array(ah_gender_undirected),percent_initially_unlabelled, \n",
    "                                    num_iter=10,\n",
    "                                                                  cv_setup='stratified')"
   ]
  },
  {
   "cell_type": "code",
   "execution_count": 40,
   "metadata": {
    "collapsed": false
   },
   "outputs": [
    {
     "name": "stdout",
     "output_type": "stream",
     "text": [
      "0.99\n"
     ]
    },
    {
     "ename": "LinAlgError",
     "evalue": "Singular matrix",
     "output_type": "error",
     "traceback": [
      "\u001b[0;31m---------------------------------------------------------------------------\u001b[0m",
      "\u001b[0;31mLinAlgError\u001b[0m                               Traceback (most recent call last)",
      "\u001b[0;32m<ipython-input-40-183833260c65>\u001b[0m in \u001b[0;36m<module>\u001b[0;34m()\u001b[0m\n\u001b[1;32m      5\u001b[0m                                     \u001b[0mnp\u001b[0m\u001b[0;34m.\u001b[0m\u001b[0marray\u001b[0m\u001b[0;34m(\u001b[0m\u001b[0mah_gender_in\u001b[0m\u001b[0;34m)\u001b[0m\u001b[0;34m,\u001b[0m\u001b[0mpercent_initially_unlabelled\u001b[0m\u001b[0;34m,\u001b[0m\u001b[0;34m\u001b[0m\u001b[0m\n\u001b[1;32m      6\u001b[0m                                     \u001b[0mnum_iter\u001b[0m\u001b[0;34m=\u001b[0m\u001b[0;36m10\u001b[0m\u001b[0;34m,\u001b[0m\u001b[0;34m\u001b[0m\u001b[0m\n\u001b[0;32m----> 7\u001b[0;31m                                                                   cv_setup='stratified')\n\u001b[0m",
      "\u001b[0;32m/Users/kristen/Dropbox/gender_graph_data/manuscript/pnas/pnas_code/ZGL.py\u001b[0m in \u001b[0;36mZGL_finalized\u001b[0;34m(feature_x, membership_y, num_unlabeled, num_iter, cv_setup, python_library)\u001b[0m\n\u001b[1;32m    107\u001b[0m                 \u001b[0mD_ul\u001b[0m \u001b[0;34m=\u001b[0m \u001b[0mD\u001b[0m\u001b[0;34m[\u001b[0m\u001b[0ml\u001b[0m\u001b[0;34m:\u001b[0m\u001b[0;34m(\u001b[0m\u001b[0ml\u001b[0m\u001b[0;34m+\u001b[0m\u001b[0mu\u001b[0m\u001b[0;34m)\u001b[0m\u001b[0;34m,\u001b[0m\u001b[0;36m0\u001b[0m\u001b[0;34m:\u001b[0m\u001b[0ml\u001b[0m\u001b[0;34m]\u001b[0m\u001b[0;34m\u001b[0m\u001b[0m\n\u001b[1;32m    108\u001b[0m                 \u001b[0mD_uu\u001b[0m \u001b[0;34m=\u001b[0m \u001b[0mD\u001b[0m\u001b[0;34m[\u001b[0m\u001b[0ml\u001b[0m\u001b[0;34m:\u001b[0m\u001b[0;34m(\u001b[0m\u001b[0ml\u001b[0m\u001b[0;34m+\u001b[0m\u001b[0mu\u001b[0m\u001b[0;34m)\u001b[0m\u001b[0;34m,\u001b[0m\u001b[0ml\u001b[0m\u001b[0;34m:\u001b[0m\u001b[0;34m(\u001b[0m\u001b[0ml\u001b[0m\u001b[0;34m+\u001b[0m\u001b[0mu\u001b[0m\u001b[0;34m)\u001b[0m\u001b[0;34m]\u001b[0m\u001b[0;34m\u001b[0m\u001b[0m\n\u001b[0;32m--> 109\u001b[0;31m                 \u001b[0mharmonic_fxn\u001b[0m \u001b[0;34m=\u001b[0m  \u001b[0mnp\u001b[0m\u001b[0;34m.\u001b[0m\u001b[0mdot\u001b[0m\u001b[0;34m(\u001b[0m\u001b[0mnp\u001b[0m\u001b[0;34m.\u001b[0m\u001b[0mdot\u001b[0m\u001b[0;34m(\u001b[0m\u001b[0mnp\u001b[0m\u001b[0;34m.\u001b[0m\u001b[0mlinalg\u001b[0m\u001b[0;34m.\u001b[0m\u001b[0minv\u001b[0m\u001b[0;34m(\u001b[0m\u001b[0mnp\u001b[0m\u001b[0;34m.\u001b[0m\u001b[0mmatrix\u001b[0m\u001b[0;34m(\u001b[0m\u001b[0mnp\u001b[0m\u001b[0;34m.\u001b[0m\u001b[0msubtract\u001b[0m\u001b[0;34m(\u001b[0m\u001b[0mD_uu\u001b[0m\u001b[0;34m,\u001b[0m \u001b[0mW_uu\u001b[0m\u001b[0;34m)\u001b[0m\u001b[0;34m)\u001b[0m\u001b[0;34m)\u001b[0m\u001b[0;34m,\u001b[0m\u001b[0mnp\u001b[0m\u001b[0;34m.\u001b[0m\u001b[0mmatrix\u001b[0m\u001b[0;34m(\u001b[0m\u001b[0mW_ul\u001b[0m\u001b[0;34m)\u001b[0m\u001b[0;34m)\u001b[0m\u001b[0;34m,\u001b[0m \u001b[0mnp\u001b[0m\u001b[0;34m.\u001b[0m\u001b[0mmatrix\u001b[0m\u001b[0;34m(\u001b[0m\u001b[0mfl\u001b[0m\u001b[0;34m)\u001b[0m\u001b[0;34m)\u001b[0m\u001b[0;34m\u001b[0m\u001b[0m\n\u001b[0m\u001b[1;32m    110\u001b[0m \u001b[0;34m\u001b[0m\u001b[0m\n\u001b[1;32m    111\u001b[0m             \u001b[0;32mif\u001b[0m \u001b[0mpython_library\u001b[0m \u001b[0;34m==\u001b[0m \u001b[0;34m'scipy'\u001b[0m\u001b[0;34m:\u001b[0m\u001b[0;34m\u001b[0m\u001b[0m\n",
      "\u001b[0;32m/Users/kristen/anaconda/lib/python2.7/site-packages/numpy/linalg/linalg.pyc\u001b[0m in \u001b[0;36minv\u001b[0;34m(a)\u001b[0m\n\u001b[1;32m    524\u001b[0m     \u001b[0msignature\u001b[0m \u001b[0;34m=\u001b[0m \u001b[0;34m'D->D'\u001b[0m \u001b[0;32mif\u001b[0m \u001b[0misComplexType\u001b[0m\u001b[0;34m(\u001b[0m\u001b[0mt\u001b[0m\u001b[0;34m)\u001b[0m \u001b[0;32melse\u001b[0m \u001b[0;34m'd->d'\u001b[0m\u001b[0;34m\u001b[0m\u001b[0m\n\u001b[1;32m    525\u001b[0m     \u001b[0mextobj\u001b[0m \u001b[0;34m=\u001b[0m \u001b[0mget_linalg_error_extobj\u001b[0m\u001b[0;34m(\u001b[0m\u001b[0m_raise_linalgerror_singular\u001b[0m\u001b[0;34m)\u001b[0m\u001b[0;34m\u001b[0m\u001b[0m\n\u001b[0;32m--> 526\u001b[0;31m     \u001b[0mainv\u001b[0m \u001b[0;34m=\u001b[0m \u001b[0m_umath_linalg\u001b[0m\u001b[0;34m.\u001b[0m\u001b[0minv\u001b[0m\u001b[0;34m(\u001b[0m\u001b[0ma\u001b[0m\u001b[0;34m,\u001b[0m \u001b[0msignature\u001b[0m\u001b[0;34m=\u001b[0m\u001b[0msignature\u001b[0m\u001b[0;34m,\u001b[0m \u001b[0mextobj\u001b[0m\u001b[0;34m=\u001b[0m\u001b[0mextobj\u001b[0m\u001b[0;34m)\u001b[0m\u001b[0;34m\u001b[0m\u001b[0m\n\u001b[0m\u001b[1;32m    527\u001b[0m     \u001b[0;32mreturn\u001b[0m \u001b[0mwrap\u001b[0m\u001b[0;34m(\u001b[0m\u001b[0mainv\u001b[0m\u001b[0;34m.\u001b[0m\u001b[0mastype\u001b[0m\u001b[0;34m(\u001b[0m\u001b[0mresult_t\u001b[0m\u001b[0;34m,\u001b[0m \u001b[0mcopy\u001b[0m\u001b[0;34m=\u001b[0m\u001b[0mFalse\u001b[0m\u001b[0;34m)\u001b[0m\u001b[0;34m)\u001b[0m\u001b[0;34m\u001b[0m\u001b[0m\n\u001b[1;32m    528\u001b[0m \u001b[0;34m\u001b[0m\u001b[0m\n",
      "\u001b[0;32m/Users/kristen/anaconda/lib/python2.7/site-packages/numpy/linalg/linalg.pyc\u001b[0m in \u001b[0;36m_raise_linalgerror_singular\u001b[0;34m(err, flag)\u001b[0m\n\u001b[1;32m     88\u001b[0m \u001b[0;34m\u001b[0m\u001b[0m\n\u001b[1;32m     89\u001b[0m \u001b[0;32mdef\u001b[0m \u001b[0m_raise_linalgerror_singular\u001b[0m\u001b[0;34m(\u001b[0m\u001b[0merr\u001b[0m\u001b[0;34m,\u001b[0m \u001b[0mflag\u001b[0m\u001b[0;34m)\u001b[0m\u001b[0;34m:\u001b[0m\u001b[0;34m\u001b[0m\u001b[0m\n\u001b[0;32m---> 90\u001b[0;31m     \u001b[0;32mraise\u001b[0m \u001b[0mLinAlgError\u001b[0m\u001b[0;34m(\u001b[0m\u001b[0;34m\"Singular matrix\"\u001b[0m\u001b[0;34m)\u001b[0m\u001b[0;34m\u001b[0m\u001b[0m\n\u001b[0m\u001b[1;32m     91\u001b[0m \u001b[0;34m\u001b[0m\u001b[0m\n\u001b[1;32m     92\u001b[0m \u001b[0;32mdef\u001b[0m \u001b[0m_raise_linalgerror_nonposdef\u001b[0m\u001b[0;34m(\u001b[0m\u001b[0merr\u001b[0m\u001b[0;34m,\u001b[0m \u001b[0mflag\u001b[0m\u001b[0;34m)\u001b[0m\u001b[0;34m:\u001b[0m\u001b[0;34m\u001b[0m\u001b[0m\n",
      "\u001b[0;31mLinAlgError\u001b[0m: Singular matrix"
     ]
    }
   ],
   "source": [
    "#in\n",
    "(mean_accuracy_zgl_ah_in, se_accuracy_zgl_ah_in, \n",
    "mean_micro_auc_zgl_ah_in,se_micro_auc_zgl_ah_in, \n",
    "mean_wt_auc_zgl_ah_in,se_wt_auc_zgl_ah_in) =ZGL_finalized(np.array(adj_gender_in),\n",
    "                                    np.array(ah_gender_in),percent_initially_unlabelled, \n",
    "                                    num_iter=10,\n",
    "                                                                  cv_setup='stratified')"
   ]
  },
  {
   "cell_type": "code",
   "execution_count": 41,
   "metadata": {
    "collapsed": false
   },
   "outputs": [
    {
     "name": "stdout",
     "output_type": "stream",
     "text": [
      "0.99\n",
      "0.95\n",
      "0.9\n",
      "0.8\n",
      "0.7\n",
      "0.6\n",
      "0.5\n",
      "0.4\n",
      "0.3\n",
      "0.2\n",
      "0.1\n",
      "0.05\n"
     ]
    }
   ],
   "source": [
    "#out\n",
    "(mean_accuracy_zgl_ah_out, se_accuracy_zgl_ah_out, \n",
    "mean_micro_auc_zgl_ah_out,se_micro_auc_zgl_ah_out, \n",
    "mean_wt_auc_zgl_ah_out,se_wt_auc_zgl_ah_out) =ZGL_finalized(np.array(adj_gender_out),\n",
    "                                    np.array(ah_gender_out),percent_initially_unlabelled, \n",
    "                                    num_iter=10,\n",
    "                                                                  cv_setup='stratified')"
   ]
  },
  {
   "cell_type": "markdown",
   "metadata": {},
   "source": [
    "## PPR"
   ]
  },
  {
   "cell_type": "code",
   "execution_count": 42,
   "metadata": {
    "collapsed": false
   },
   "outputs": [
    {
     "name": "stdout",
     "output_type": "stream",
     "text": [
      "0.99\n",
      "0.95\n",
      "0.9\n",
      "0.8\n",
      "0.7\n",
      "0.6\n",
      "0.5\n",
      "0.4\n",
      "0.3\n",
      "0.2\n",
      "0.1\n",
      "0.05\n"
     ]
    }
   ],
   "source": [
    "(mean_accuracy_ah_undirected_ppr, se_accuracy_ah_undirected_ppr, \n",
    " mean_micro_auc_ah_undirected_ppr,se_micro_auc_ah_undirected_ppr, \n",
    " mean_wt_auc_ah_undirected_ppr,se_wt_auc_ah_undirected_ppr)= ppr_finalized(nx.from_numpy_matrix(adj_directed_gender_undirected),\n",
    "                                                            percent_initially_unlabelled, ## note: mean_se_model assumes a vector of x% initially labeled\n",
    "                                                              np.array(ah_gender_undirected), ## gender labels \n",
    "                                                              0, ## adjacency matrix\n",
    "                                                             10,\n",
    "                                                                cv_setup='stratified')\n",
    "\n",
    "\n",
    "\n"
   ]
  },
  {
   "cell_type": "code",
   "execution_count": 43,
   "metadata": {
    "collapsed": false
   },
   "outputs": [
    {
     "name": "stdout",
     "output_type": "stream",
     "text": [
      "0.99\n",
      "0.95\n",
      "0.9\n",
      "0.8\n",
      "0.7\n",
      "0.6\n",
      "0.5\n",
      "0.4\n",
      "0.3\n",
      "0.2\n",
      "0.1\n",
      "0.05\n"
     ]
    }
   ],
   "source": [
    "(mean_accuracy_ah_in_ppr, se_accuracy_ah_in_ppr, \n",
    " mean_micro_auc_ah_in_ppr,se_micro_auc_ah_in_ppr, \n",
    " mean_wt_auc_ah_in_ppr,se_wt_auc_ah_in_ppr)= ppr_finalized(nx.from_numpy_matrix(adj_gender_in),\n",
    "                                                            percent_initially_unlabelled, ## note: mean_se_model assumes a vector of x% initially labeled\n",
    "                                                              np.array(ah_gender_in), ## gender labels \n",
    "                                                              0, ## adjacency matrix\n",
    "                                                             10,\n",
    "                                                                cv_setup='stratified')\n",
    "\n",
    "\n",
    "\n",
    "\n"
   ]
  },
  {
   "cell_type": "code",
   "execution_count": 44,
   "metadata": {
    "collapsed": false
   },
   "outputs": [
    {
     "name": "stdout",
     "output_type": "stream",
     "text": [
      "[1 2]\n",
      "324\n",
      "291\n"
     ]
    }
   ],
   "source": [
    "print np.unique(ah_gender_undirected)\n",
    "print np.sum((ah_gender_out==1)+0)\n",
    "print np.sum((ah_gender_out==2)+0)"
   ]
  },
  {
   "cell_type": "code",
   "execution_count": 37,
   "metadata": {
    "collapsed": false
   },
   "outputs": [
    {
     "name": "stdout",
     "output_type": "stream",
     "text": [
      "[1 2]\n",
      "360\n",
      "306\n"
     ]
    }
   ],
   "source": [
    "print np.unique(ah_gender_undirected)\n",
    "\n",
    "print np.sum((ah_gender_undirected==1)+0)\n",
    "print np.sum((ah_gender_undirected==2)+0)"
   ]
  },
  {
   "cell_type": "code",
   "execution_count": null,
   "metadata": {
    "collapsed": true
   },
   "outputs": [],
   "source": []
  },
  {
   "cell_type": "code",
   "execution_count": null,
   "metadata": {
    "collapsed": true
   },
   "outputs": [],
   "source": []
  },
  {
   "cell_type": "code",
   "execution_count": 45,
   "metadata": {
    "collapsed": false
   },
   "outputs": [
    {
     "name": "stdout",
     "output_type": "stream",
     "text": [
      "0.99\n",
      "0.95\n",
      "0.9\n",
      "0.8\n",
      "0.7\n",
      "0.6\n",
      "0.5\n",
      "0.4\n",
      "0.3\n",
      "0.2\n",
      "0.1\n",
      "0.05\n"
     ]
    }
   ],
   "source": [
    "(mean_accuracy_ah_out_ppr, se_accuracy_ah_out_ppr, \n",
    " mean_micro_auc_ah_out_ppr,se_micro_auc_ah_out_ppr, \n",
    " mean_wt_auc_ah_out_ppr,se_wt_auc_ah_out_ppr)= ppr_finalized(nx.from_numpy_matrix(adj_gender_out),\n",
    "                                                            percent_initially_unlabelled, ## note: mean_se_model assumes a vector of x% initially labeled\n",
    "                                                              np.array(ah_gender_out), ## gender labels \n",
    "                                                              0, ## adjacency matrix\n",
    "                                                             10,\n",
    "                                                                cv_setup='stratified')\n",
    "\n",
    "\n",
    "\n",
    "\n",
    "\n"
   ]
  },
  {
   "cell_type": "code",
   "execution_count": null,
   "metadata": {
    "collapsed": true
   },
   "outputs": [],
   "source": []
  },
  {
   "cell_type": "code",
   "execution_count": null,
   "metadata": {
    "collapsed": true
   },
   "outputs": [],
   "source": []
  },
  {
   "cell_type": "code",
   "execution_count": 46,
   "metadata": {
    "collapsed": false
   },
   "outputs": [
    {
     "name": "stderr",
     "output_type": "stream",
     "text": [
      "/Users/kristen/anaconda/lib/python2.7/site-packages/matplotlib/collections.py:650: FutureWarning: elementwise comparison failed; returning scalar instead, but in the future will perform elementwise comparison\n",
      "  if self._edgecolors_original != str('face'):\n",
      "/Users/kristen/anaconda/lib/python2.7/site-packages/matplotlib/collections.py:590: FutureWarning: elementwise comparison failed; returning scalar instead, but in the future will perform elementwise comparison\n",
      "  if self._edgecolors == str('face'):\n"
     ]
    },
    {
     "data": {
      "image/png": "[encoded data removed]",
      "text/plain": [
       "<matplotlib.figure.Figure at 0x12d01bf10>"
      ]
     },
     "metadata": {},
     "output_type": "display_data"
    }
   ],
   "source": [
    "%matplotlib inline\n",
    "from matplotlib.ticker import FixedLocator,LinearLocator,MultipleLocator, FormatStrFormatter\n",
    "os.chdir('/Users/kristen/Dropbox/gender_graph_data/manuscript/pnas/pnas_figures/') \n",
    "\n",
    "\n",
    "\n",
    "fig = plt.figure()\n",
    "seaborn.set_style(style='white')\n",
    "from mpl_toolkits.axes_grid1 import Grid\n",
    "grid = Grid(fig, rect=111, nrows_ncols=(1,1),\n",
    "            axes_pad=0.1, label_mode='L')\n",
    "\n",
    "for i in range(4):\n",
    "    if i == 0:\n",
    "        grid[i].xaxis.set_major_locator(FixedLocator([0,25,50,75,100]))\n",
    "        grid[i].yaxis.set_major_locator(FixedLocator([0.5,0.6,0.7,0.8,0.9,1]))\n",
    "\n",
    "        grid[i].errorbar(percent_initially_labelled*100, mean_wt_auc_ah_undirect, \n",
    "            yerr=se_micro_auc_ah_undirect, fmt='--o', capthick=2,\n",
    "            alpha=0.6, elinewidth=3, color='black')\n",
    "        grid[i].errorbar(percent_initially_labelled*100, mean_wt_auc_zgl_ah_undirected,\n",
    "            yerr=se_micro_auc_zgl_ah_undirected, fmt='--o', capthick=2,\n",
    "            alpha=0.6, elinewidth=3, color='orange')\n",
    "        grid[i].errorbar(percent_initially_labelled*100, mean_wt_auc_mv_ah_un,\n",
    "            yerr=se_micro_auc_mv_ah_un, fmt='--o', capthick=2,\n",
    "            alpha=0.6, elinewidth=3, color='red')\n",
    "        grid[i].errorbar(percent_initially_labelled*100, mean_wt_auc_mv2_ah_undirected, \n",
    "            yerr=se_micro_auc_mv2_ah_undirected, fmt='--o', capthick=2,\n",
    "                alpha=0.6, elinewidth=3, color='maroon')\n",
    "        \n",
    "        grid[i].errorbar(percent_initially_labelled*100, mean_wt_auc_ah_undirected_ppr, \n",
    "            yerr=se_micro_auc_ah_undirected_ppr, fmt='--o', capthick=2,\n",
    "                alpha=0.6, elinewidth=3, color='purple')\n",
    "        \n",
    "        \n",
    "        grid[i].set_ylim(0.4,1.1)\n",
    "        grid[i].set_xlim(0,100)\n",
    "        grid[i].annotate('LINK', xy=(3, 0.99), \n",
    "                 color='black', alpha=1, size=12)\n",
    "        #grid[i].annotate('ZGL', xy=(3, 0.93), \n",
    "        #         color='hotpink', alpha=1, size=12)\n",
    "        grid[i].annotate('2-hop MV', xy=(3, 0.96), \n",
    "                 color='maroon', alpha=1, size=12)\n",
    "        grid[i].annotate('1-hop MV', xy=(3, 0.93), \n",
    "                 color='red', alpha=1, size=12)\n",
    "        grid[i].annotate('ZGL', xy=(3, 0.90), \n",
    "                 color='orange', alpha=1, size=12)\n",
    "        grid[i].annotate('PPR', xy=(3, 0.87), \n",
    "                 color='purple', alpha=1, size=12)\n",
    "        grid[i].set_ylim(0.4,1.05)\n",
    "        grid[i].set_xlim(0,100)\n",
    "        grid[i].spines['right'].set_visible(False)\n",
    "        grid[i].spines['top'].set_visible(False)\n",
    "        grid[i].tick_params(axis='both', which='major', labelsize=9)\n",
    "        grid[i].tick_params(axis='both', which='minor', labelsize=9)\n",
    "\n",
    "\n",
    "fig.text(0.5, 0.9, 'Gender Inference on Add Health #' +str(id[0]) + ' - undirected', ha='center', fontsize=13)        \n",
    "fig.text(0.5, 0.01, '% of Nodes Initially Labeled', ha='center', fontsize=13)\n",
    "fig.text(0.01, 0.5, 'AUC', va='center', rotation='vertical', fontsize=13)\n",
    "plt.show()\n",
    "#plt.tight_layout()\n",
    "#pp = PdfPages('AddHealth_School_23_Undirected_Inference.pdf')\n",
    "#pp.savefig()\n",
    "#pp.close()"
   ]
  },
  {
   "cell_type": "code",
   "execution_count": 13,
   "metadata": {
    "collapsed": false
   },
   "outputs": [
    {
     "data": {
      "image/png": "[encoded data removed]",
      "text/plain": [
       "<matplotlib.figure.Figure at 0x1270c5a10>"
      ]
     },
     "metadata": {},
     "output_type": "display_data"
    }
   ],
   "source": [
    "%matplotlib inline\n",
    "from matplotlib.ticker import FixedLocator,LinearLocator,MultipleLocator, FormatStrFormatter\n",
    "os.chdir('/Users/kristen/Dropbox/gender_graph_data/manuscript/pnas/pnas_figures/') \n",
    "\n",
    "\n",
    "\n",
    "fig = plt.figure()\n",
    "seaborn.set_style(style='white')\n",
    "from mpl_toolkits.axes_grid1 import Grid\n",
    "grid = Grid(fig, rect=111, nrows_ncols=(1,1),\n",
    "            axes_pad=0.1, label_mode='L')\n",
    "\n",
    "\n",
    "for i in range(4):\n",
    "    if i == 0:\n",
    "        grid[i].xaxis.set_major_locator(FixedLocator([0,25,50,75,100]))\n",
    "        grid[i].yaxis.set_major_locator(FixedLocator([0.5,0.6,0.7,0.8,0.9,1]))\n",
    "\n",
    "        grid[i].errorbar(percent_initially_labelled*100, mean_wt_auc_ah_undirect, \n",
    "            yerr=se_micro_auc_ah_undirect, fmt='--o', capthick=2,\n",
    "            alpha=0.6, elinewidth=3, color='black')\n",
    "        \n",
    "        grid[i].errorbar(percent_initially_labelled*100, mean_wt_auc_ah_in, \n",
    "            yerr=se_micro_auc_ah_in, fmt='--o', capthick=2,\n",
    "            alpha=0.6, elinewidth=3, color='red')\n",
    "        \n",
    "        grid[i].errorbar(percent_initially_labelled*100, mean_wt_auc_ah_out,\n",
    "            yerr=se_micro_auc_ah_out, fmt='--o', capthick=2,\n",
    "            alpha=0.6, elinewidth=3, color='gray')\n",
    "        \n",
    "        \n",
    "        grid[i].tick_params('both', length=4, width=1, which='major', left=1, bottom=1, top=0, right=0)\n",
    "\n",
    "\n",
    "        grid[i].set_ylim(0.4,1.1)\n",
    "        grid[i].set_xlim(0,100)\n",
    "        grid[i].annotate('LINK: in features', xy=(3, 0.99), \n",
    "                 color='gray', alpha=1, size=12)\n",
    "        #grid[i].annotate('ZGL', xy=(3, 0.93), \n",
    "        #         color='hotpink', alpha=1, size=12)\n",
    "        grid[i].annotate('LINK: undirected features', xy=(3, 0.96), \n",
    "                 color='black', alpha=1, size=12)\n",
    "        grid[i].annotate('LINK: out features', xy=(3, 0.93), \n",
    "                 color='red', alpha=1, size=12)\n",
    "\n",
    "        grid[i].set_ylim(0.4,1.05)\n",
    "        grid[i].set_xlim(0,100)\n",
    "        grid[i].spines['right'].set_visible(False)\n",
    "        grid[i].spines['top'].set_visible(False)\n",
    "        grid[i].tick_params(axis='both', which='major', labelsize=9)\n",
    "        grid[i].tick_params(axis='both', which='minor', labelsize=9)\n",
    "\n",
    "\n",
    "fig.text(0.5, 0.9, 'Gender Inference on Add Health #' +str(id[0]) + ' - LINK', ha='center', fontsize=13)        \n",
    "fig.text(0.5, 0.01, '% of Nodes Initially Labeled', ha='center', fontsize=13)\n",
    "fig.text(0.01, 0.5, 'AUC', va='center', rotation='vertical', fontsize=13)\n",
    "#plt.show()\n",
    "#plt.tight_layout()\n",
    "pp = PdfPages('AddHealth_School_23_LINK_Inference.pdf')\n",
    "pp.savefig()\n",
    "pp.close()"
   ]
  },
  {
   "cell_type": "code",
   "execution_count": null,
   "metadata": {
    "collapsed": true
   },
   "outputs": [],
   "source": []
  },
  {
   "cell_type": "code",
   "execution_count": 128,
   "metadata": {
    "collapsed": false
   },
   "outputs": [
    {
     "data": {
      "image/png": "[encoded data removed]",
      "text/plain": [
       "<matplotlib.figure.Figure at 0x12bd3b050>"
      ]
     },
     "metadata": {},
     "output_type": "display_data"
    }
   ],
   "source": [
    "%matplotlib inline\n",
    "from matplotlib.ticker import FixedLocator,LinearLocator,MultipleLocator, FormatStrFormatter\n",
    "os.chdir('/Users/kristen/Dropbox/gender_graph_data/manuscript/pnas/pnas_figures/') \n",
    "\n",
    "\n",
    "\n",
    "fig = plt.figure()\n",
    "seaborn.set_style(style='white')\n",
    "from mpl_toolkits.axes_grid1 import Grid\n",
    "grid = Grid(fig, rect=111, nrows_ncols=(1,1),\n",
    "            axes_pad=0.1, label_mode='L')\n",
    "\n",
    "for i in range(4):\n",
    "    if i == 0:\n",
    "        grid[i].xaxis.set_major_locator(FixedLocator([0,25,50,75,100]))\n",
    "        grid[i].yaxis.set_major_locator(FixedLocator([0.5,0.6,0.7,0.8,0.9,1]))\n",
    "\n",
    "        grid[i].errorbar(percent_initially_labelled*100, mean_micro_auc_ah_in, \n",
    "            yerr=se_micro_auc_ah_in, fmt='--o', capthick=2,\n",
    "            alpha=0.6, elinewidth=3, color='black')\n",
    "        #grid[i].errorbar(percent_initially_labelled*100, mean_micro_auc_zgl_ah_undirected,\n",
    "        #    yerr=se_micro_auc_zgl_ah_undirected, fmt='--o', capthick=2,\n",
    "        #    alpha=0.6, elinewidth=3, color='orange')\n",
    "        grid[i].errorbar(percent_initially_labelled*100, mean_micro_auc_mv_ah_in,\n",
    "            yerr=se_micro_auc_mv_ah_in, fmt='--o', capthick=2,\n",
    "            alpha=0.6, elinewidth=3, color='red')\n",
    "        grid[i].errorbar(percent_initially_labelled*100, mean_micro_auc_mv2_ah_in, \n",
    "            yerr=se_micro_auc_mv2_ah_in, fmt='--o', capthick=2,\n",
    "                alpha=0.6, elinewidth=3, color='maroon')\n",
    "        \n",
    "        grid[i].errorbar(percent_initially_labelled*100, mean_micro_auc_ah_in_ppr, \n",
    "            yerr=se_micro_auc_ah_in_ppr, fmt='--o', capthick=2,\n",
    "                alpha=0.6, elinewidth=3, color='purple')\n",
    "        \n",
    "        \n",
    "        grid[i].set_ylim(0.4,1.1)\n",
    "        grid[i].set_xlim(0,100)\n",
    "        grid[i].annotate('LINK', xy=(3, 0.99), \n",
    "                 color='black', alpha=1, size=12)\n",
    "        #grid[i].annotate('ZGL', xy=(3, 0.93), \n",
    "        #         color='hotpink', alpha=1, size=12)\n",
    "        grid[i].annotate('2-hop MV', xy=(3, 0.96), \n",
    "                 color='maroon', alpha=1, size=12)\n",
    "        grid[i].annotate('1-hop MV', xy=(3, 0.93), \n",
    "                 color='red', alpha=1, size=12)\n",
    "        #grid[i].annotate('ZGL', xy=(3, 0.90), \n",
    "        #         color='orange', alpha=1, size=12)\n",
    "        grid[i].annotate('PPR', xy=(3, 0.87), \n",
    "                 color='purple', alpha=1, size=12)\n",
    "        grid[i].set_ylim(0.4,1.05)\n",
    "        grid[i].set_xlim(0,100)\n",
    "        grid[i].spines['right'].set_visible(False)\n",
    "        grid[i].spines['top'].set_visible(False)\n",
    "        grid[i].tick_params(axis='both', which='major', labelsize=9)\n",
    "        grid[i].tick_params(axis='both', which='minor', labelsize=9)\n",
    "\n",
    "\n",
    "fig.text(0.5, 0.9, 'Gender Inference on Add Health #' +str(id[0]) + ' - in-directed', ha='center', fontsize=13)        \n",
    "fig.text(0.5, 0.01, '% of Nodes Initially Labeled', ha='center', fontsize=13)\n",
    "fig.text(0.01, 0.5, 'AUC', va='center', rotation='vertical', fontsize=13)\n",
    "#plt.show()\n",
    "#plt.tight_layout()\n",
    "pp = PdfPages('AddHealth_School_23_In_Inference.pdf')\n",
    "pp.savefig()\n",
    "pp.close()"
   ]
  },
  {
   "cell_type": "code",
   "execution_count": 129,
   "metadata": {
    "collapsed": false
   },
   "outputs": [
    {
     "data": {
      "image/png": "[encoded data removed]",
      "text/plain": [
       "<matplotlib.figure.Figure at 0x127a6bd50>"
      ]
     },
     "metadata": {},
     "output_type": "display_data"
    }
   ],
   "source": [
    "%matplotlib inline\n",
    "from matplotlib.ticker import FixedLocator,LinearLocator,MultipleLocator, FormatStrFormatter\n",
    "os.chdir('/Users/kristen/Dropbox/gender_graph_data/manuscript/pnas/pnas_figures/') \n",
    "\n",
    "\n",
    "\n",
    "fig = plt.figure()\n",
    "seaborn.set_style(style='white')\n",
    "from mpl_toolkits.axes_grid1 import Grid\n",
    "grid = Grid(fig, rect=111, nrows_ncols=(1,1),\n",
    "            axes_pad=0.1, label_mode='L')\n",
    "\n",
    "for i in range(4):\n",
    "    if i == 0:\n",
    "        grid[i].xaxis.set_major_locator(FixedLocator([0,25,50,75,100]))\n",
    "        grid[i].yaxis.set_major_locator(FixedLocator([0.5,0.6,0.7,0.8,0.9,1]))\n",
    "\n",
    "        grid[i].errorbar(percent_initially_labelled*100, mean_micro_auc_ah_out, \n",
    "            yerr=se_micro_auc_ah_out, fmt='--o', capthick=2,\n",
    "            alpha=0.6, elinewidth=3, color='black')\n",
    "        #grid[i].errorbar(percent_initially_labelled*100, mean_micro_auc_zgl_ah_out,\n",
    "        #    yerr=se_micro_auc_zgl_ah_out, fmt='--o', capthick=2,\n",
    "        #    alpha=0.6, elinewidth=3, color='orange')\n",
    "        grid[i].errorbar(percent_initially_labelled*100, mean_micro_auc_mv_ah_out,\n",
    "            yerr=se_micro_auc_mv_ah_out, fmt='--o', capthick=2,\n",
    "            alpha=0.6, elinewidth=3, color='red')\n",
    "        grid[i].errorbar(percent_initially_labelled*100, mean_micro_auc_mv2_ah_out, \n",
    "            yerr=se_micro_auc_mv2_ah_out, fmt='--o', capthick=2,\n",
    "                alpha=0.6, elinewidth=3, color='maroon')\n",
    "        \n",
    "        grid[i].errorbar(percent_initially_labelled*100, mean_micro_auc_ah_out_ppr, \n",
    "            yerr=se_micro_auc_ah_out_ppr, fmt='--o', capthick=2,\n",
    "                alpha=0.6, elinewidth=3, color='purple')\n",
    "        \n",
    "        \n",
    "        grid[i].set_ylim(0.4,1.1)\n",
    "        grid[i].set_xlim(0,100)\n",
    "        grid[i].annotate('LINK', xy=(3, 0.99), \n",
    "                 color='black', alpha=1, size=12)\n",
    "        \n",
    "        grid[i].annotate('2-hop MV', xy=(3, 0.96), \n",
    "                 color='maroon', alpha=1, size=12)\n",
    "        grid[i].annotate('1-hop MV', xy=(3, 0.93), \n",
    "                 color='red', alpha=1, size=12)\n",
    "        #grid[i].annotate('ZGL', xy=(3, 0.90), \n",
    "        #         color='orange', alpha=1, size=12)\n",
    "        grid[i].annotate('PPR', xy=(3, 0.87), \n",
    "                 color='purple', alpha=1, size=12)\n",
    "        grid[i].set_ylim(0.4,1.05)\n",
    "        grid[i].set_xlim(0,100)\n",
    "        grid[i].spines['right'].set_visible(False)\n",
    "        grid[i].spines['top'].set_visible(False)\n",
    "        grid[i].tick_params(axis='both', which='major', labelsize=9)\n",
    "        grid[i].tick_params(axis='both', which='minor', labelsize=9)\n",
    "\n",
    "\n",
    "fig.text(0.5, 0.9, 'Gender Inference on Add Health #' +str(id[0]) + ' - out-directed', ha='center', fontsize=13)        \n",
    "fig.text(0.5, 0.01, '% of Nodes Initially Labeled', ha='center', fontsize=13)\n",
    "fig.text(0.01, 0.5, 'AUC', va='center', rotation='vertical', fontsize=13)\n",
    "#plt.show()\n",
    "#plt.tight_layout()\n",
    "pp = PdfPages('AddHealth_School_23_Out_Inference.pdf')\n",
    "pp.savefig()\n",
    "pp.close()"
   ]
  },
  {
   "cell_type": "code",
   "execution_count": null,
   "metadata": {
    "collapsed": true
   },
   "outputs": [],
   "source": []
  },
  {
   "cell_type": "code",
   "execution_count": null,
   "metadata": {
    "collapsed": true
   },
   "outputs": [],
   "source": []
  },
  {
   "cell_type": "code",
   "execution_count": null,
   "metadata": {
    "collapsed": true
   },
   "outputs": [],
   "source": []
  },
  {
   "cell_type": "markdown",
   "metadata": {
    "collapsed": true
   },
   "source": [
    "### concatenate in- and out- "
   ]
  },
  {
   "cell_type": "code",
   "execution_count": 24,
   "metadata": {
    "collapsed": false
   },
   "outputs": [
    {
     "name": "stdout",
     "output_type": "stream",
     "text": [
      "[[ 1  2]\n",
      " [10 20]]\n",
      "\n",
      "[[ 3]\n",
      " [30]]\n",
      "[[11 22]]\n"
     ]
    }
   ],
   "source": [
    "#spot-check I have correct understanding of np.sum\n",
    "test_matrix = np.reshape(np.matrix((1,2,10,20)),(2,2))\n",
    "\n",
    "print test_matrix\n",
    "print ''\n",
    "print np.sum(test_matrix,1)\n",
    "print np.sum(test_matrix,0)"
   ]
  },
  {
   "cell_type": "code",
   "execution_count": null,
   "metadata": {
    "collapsed": true
   },
   "outputs": [],
   "source": []
  },
  {
   "cell_type": "code",
   "execution_count": 26,
   "metadata": {
    "collapsed": false
   },
   "outputs": [
    {
     "name": "stdout",
     "output_type": "stream",
     "text": [
      "comm23\n",
      "Processing comm23.gml...\n"
     ]
    }
   ],
   "source": [
    "os.chdir('/Users/kristen/Dropbox/gender_graph_data/add-health/converted_gml/')\n",
    "for f in listdir('/Users/kristen/Dropbox/gender_graph_data/add-health/converted_gml/'):\n",
    "    if f.endswith('.gml') and f=='comm23.gml': #and f!='comm25.gml': #f=='comm10.gml':\n",
    "        tag = f.replace('.gml', '')\n",
    "        print tag\n",
    "\n",
    "        id = re.findall(r'\\d+', f)\n",
    "        print \"Processing %s...\" % f\n",
    "\n",
    "        # directed graph\n",
    "        ah_graph_directed = nx.read_gml(f)\n",
    "\n",
    "        # undirected graph\n",
    "        #ah_graph_tmp = nx.read_gml(f)\n",
    "        #ah_graph_undirected = ah_graph_tmp.to_undirected()\n",
    "            \n",
    "        ## Add Health -- Undirected: Either In- or Out- Link\n",
    "        \n",
    "        #undirected\n",
    "        (ah_gender_both, adj_directed_gender_both) = create_adj_membership(ah_graph_directed,\n",
    "                                                                   nx.get_node_attributes(ah_graph_directed, 'comm' + str(id[0]) +'sex'),\n",
    "                                                                   0,\n",
    "                                                                   'yes',\n",
    "                                                                   0,\n",
    "                                                                   'both', # change adjacency matrix type: out == out-link, in == in-link, any1 == undirected\n",
    "                                                                   'gender')"
   ]
  },
  {
   "cell_type": "markdown",
   "metadata": {},
   "source": [
    "### LINK"
   ]
  },
  {
   "cell_type": "code",
   "execution_count": 27,
   "metadata": {
    "collapsed": false
   },
   "outputs": [
    {
     "name": "stdout",
     "output_type": "stream",
     "text": [
      "0.99\n",
      "0.95\n",
      "0.9\n",
      "0.8\n",
      "0.7\n",
      "0.6\n",
      "0.5\n",
      "0.4\n",
      "0.3\n",
      "0.2\n",
      "0.1\n",
      "0.05\n",
      "0.01\n"
     ]
    }
   ],
   "source": [
    "(mean_accuracy_ah_both, se_accuracy_ah_both, \n",
    " mean_micro_auc_ah_both,se_micro_auc_ah_both, mean_wt_auc_ah_undirect,se_wt_auc_ah_undirect)= LINK(percent_initially_unlabelled, ## note: mean_se_model assumes a vector of x% initially labeled\n",
    "                                                              np.array(ah_gender_both), ## gender labels \n",
    "                                                              np.matrix(adj_directed_gender_both), ## adjacency matrix\n",
    "                                                              clf = linear_model.LogisticRegression(penalty='l2',C=100),\n",
    "                                                                        num_iter=10,\n",
    "                                                            cv_setup='stratified') \n",
    "\n",
    "\n",
    "\n"
   ]
  },
  {
   "cell_type": "markdown",
   "metadata": {},
   "source": [
    "### 1-hop MV"
   ]
  },
  {
   "cell_type": "code",
   "execution_count": 30,
   "metadata": {
    "collapsed": false
   },
   "outputs": [
    {
     "name": "stdout",
     "output_type": "stream",
     "text": [
      "(620, 1240)\n",
      "(620,)\n"
     ]
    }
   ],
   "source": [
    "print np.shape(adj_directed_gender_both)\n",
    "print np.shape(ah_gender_both)"
   ]
  },
  {
   "cell_type": "code",
   "execution_count": 29,
   "metadata": {
    "collapsed": false
   },
   "outputs": [
    {
     "name": "stdout",
     "output_type": "stream",
     "text": [
      "0.99\n"
     ]
    },
    {
     "ename": "ValueError",
     "evalue": "shapes (620,1240) and (620,1) not aligned: 1240 (dim 1) != 620 (dim 0)",
     "output_type": "error",
     "traceback": [
      "\u001b[0;31m---------------------------------------------------------------------------\u001b[0m",
      "\u001b[0;31mValueError\u001b[0m                                Traceback (most recent call last)",
      "\u001b[0;32m<ipython-input-29-a936e6ee3006>\u001b[0m in \u001b[0;36m<module>\u001b[0;34m()\u001b[0m\n\u001b[1;32m      5\u001b[0m                                                                 \u001b[0mnp\u001b[0m\u001b[0;34m.\u001b[0m\u001b[0marray\u001b[0m\u001b[0;34m(\u001b[0m\u001b[0madj_directed_gender_both\u001b[0m\u001b[0;34m)\u001b[0m\u001b[0;34m,\u001b[0m\u001b[0;34m\u001b[0m\u001b[0m\n\u001b[1;32m      6\u001b[0m                                                                        \u001b[0mnum_iter\u001b[0m\u001b[0;34m=\u001b[0m\u001b[0;36m10\u001b[0m\u001b[0;34m,\u001b[0m\u001b[0;34m\u001b[0m\u001b[0m\n\u001b[0;32m----> 7\u001b[0;31m                                                                   cv_setup='stratified')\n\u001b[0m\u001b[1;32m      8\u001b[0m \u001b[0;34m\u001b[0m\u001b[0m\n\u001b[1;32m      9\u001b[0m \u001b[0;34m\u001b[0m\u001b[0m\n",
      "\u001b[0;32mpnas_code/majority_vote.py\u001b[0m in \u001b[0;36mmajority_vote_finalized\u001b[0;34m(num_unlabeled, membership_y, feature_x, num_iter, cv_setup)\u001b[0m\n",
      "\u001b[0;32m/Users/kristen/anaconda/lib/python2.7/site-packages/numpy/matrixlib/defmatrix.pyc\u001b[0m in \u001b[0;36m__rmul__\u001b[0;34m(self, other)\u001b[0m\n\u001b[1;32m    347\u001b[0m \u001b[0;34m\u001b[0m\u001b[0m\n\u001b[1;32m    348\u001b[0m     \u001b[0;32mdef\u001b[0m \u001b[0m__rmul__\u001b[0m\u001b[0;34m(\u001b[0m\u001b[0mself\u001b[0m\u001b[0;34m,\u001b[0m \u001b[0mother\u001b[0m\u001b[0;34m)\u001b[0m\u001b[0;34m:\u001b[0m\u001b[0;34m\u001b[0m\u001b[0m\n\u001b[0;32m--> 349\u001b[0;31m         \u001b[0;32mreturn\u001b[0m \u001b[0mN\u001b[0m\u001b[0;34m.\u001b[0m\u001b[0mdot\u001b[0m\u001b[0;34m(\u001b[0m\u001b[0mother\u001b[0m\u001b[0;34m,\u001b[0m \u001b[0mself\u001b[0m\u001b[0;34m)\u001b[0m\u001b[0;34m\u001b[0m\u001b[0m\n\u001b[0m\u001b[1;32m    350\u001b[0m \u001b[0;34m\u001b[0m\u001b[0m\n\u001b[1;32m    351\u001b[0m     \u001b[0;32mdef\u001b[0m \u001b[0m__imul__\u001b[0m\u001b[0;34m(\u001b[0m\u001b[0mself\u001b[0m\u001b[0;34m,\u001b[0m \u001b[0mother\u001b[0m\u001b[0;34m)\u001b[0m\u001b[0;34m:\u001b[0m\u001b[0;34m\u001b[0m\u001b[0m\n",
      "\u001b[0;31mValueError\u001b[0m: shapes (620,1240) and (620,1) not aligned: 1240 (dim 1) != 620 (dim 0)"
     ]
    }
   ],
   "source": [
    "(mean_accuracy_mv_ah_both, se_accuracy_mv_ah_both, \n",
    " mean_micro_auc_mv_ah_both,se_micro_auc_mv_ah_both, \n",
    " mean_wt_auc_mv_ah_both,se_wt_auc_mv_ah_both) =majority_vote_finalized(percent_initially_unlabelled,  \n",
    "                                                                np.array(ah_gender_both), \n",
    "                                                                np.array(adj_directed_gender_both), \n",
    "                                                                       num_iter=10,\n",
    "                                                                  cv_setup='stratified')\n",
    "\n",
    "\n",
    "\n"
   ]
  },
  {
   "cell_type": "code",
   "execution_count": null,
   "metadata": {
    "collapsed": true
   },
   "outputs": [],
   "source": []
  },
  {
   "cell_type": "code",
   "execution_count": null,
   "metadata": {
    "collapsed": true
   },
   "outputs": [],
   "source": []
  },
  {
   "cell_type": "code",
   "execution_count": null,
   "metadata": {
    "collapsed": true
   },
   "outputs": [],
   "source": []
  },
  {
   "cell_type": "markdown",
   "metadata": {},
   "source": [
    "## PPR"
   ]
  },
  {
   "cell_type": "code",
   "execution_count": 31,
   "metadata": {
    "collapsed": false
   },
   "outputs": [
    {
     "ename": "NetworkXError",
     "evalue": "('Adjacency matrix is not square.', 'nx,ny=(620, 1240)')",
     "output_type": "error",
     "traceback": [
      "\u001b[0;31m---------------------------------------------------------------------------\u001b[0m",
      "\u001b[0;31mNetworkXError\u001b[0m                             Traceback (most recent call last)",
      "\u001b[0;32m<ipython-input-31-482f9f100a46>\u001b[0m in \u001b[0;36m<module>\u001b[0;34m()\u001b[0m\n\u001b[1;32m      1\u001b[0m (mean_accuracy_ah_both_ppr, se_accuracy_ah_both_ppr, \n\u001b[1;32m      2\u001b[0m  \u001b[0mmean_micro_auc_ah_both_ppr\u001b[0m\u001b[0;34m,\u001b[0m\u001b[0mse_micro_auc_ah_both_ppr\u001b[0m\u001b[0;34m,\u001b[0m\u001b[0;34m\u001b[0m\u001b[0m\n\u001b[0;32m----> 3\u001b[0;31m  \u001b[0mmean_wt_auc_ah_both_ppr\u001b[0m\u001b[0;34m,\u001b[0m\u001b[0mse_wt_auc_ah_both_ppr\u001b[0m\u001b[0;34m)\u001b[0m\u001b[0;34m=\u001b[0m \u001b[0mppr_finalized\u001b[0m\u001b[0;34m(\u001b[0m\u001b[0mnx\u001b[0m\u001b[0;34m.\u001b[0m\u001b[0mfrom_numpy_matrix\u001b[0m\u001b[0;34m(\u001b[0m\u001b[0madj_directed_gender_both\u001b[0m\u001b[0;34m)\u001b[0m\u001b[0;34m,\u001b[0m\u001b[0;34m\u001b[0m\u001b[0m\n\u001b[0m\u001b[1;32m      4\u001b[0m                                                             \u001b[0mpercent_initially_unlabelled\u001b[0m\u001b[0;34m,\u001b[0m \u001b[0;31m## note: mean_se_model assumes a vector of x% initially labeled\u001b[0m\u001b[0;34m\u001b[0m\u001b[0m\n\u001b[1;32m      5\u001b[0m                                                               \u001b[0mnp\u001b[0m\u001b[0;34m.\u001b[0m\u001b[0marray\u001b[0m\u001b[0;34m(\u001b[0m\u001b[0mah_gender_both\u001b[0m\u001b[0;34m)\u001b[0m\u001b[0;34m,\u001b[0m \u001b[0;31m## gender labels\u001b[0m\u001b[0;34m\u001b[0m\u001b[0m\n",
      "\u001b[0;32m/Users/kristen/anaconda/lib/python2.7/site-packages/networkx/convert_matrix.pyc\u001b[0m in \u001b[0;36mfrom_numpy_matrix\u001b[0;34m(A, create_using)\u001b[0m\n\u001b[1;32m    267\u001b[0m     \u001b[0;32mif\u001b[0m \u001b[0mn\u001b[0m\u001b[0;34m!=\u001b[0m\u001b[0mm\u001b[0m\u001b[0;34m:\u001b[0m\u001b[0;34m\u001b[0m\u001b[0m\n\u001b[1;32m    268\u001b[0m         raise nx.NetworkXError(\"Adjacency matrix is not square.\",\n\u001b[0;32m--> 269\u001b[0;31m                                \"nx,ny=%s\"%(A.shape,))\n\u001b[0m\u001b[1;32m    270\u001b[0m     \u001b[0mdt\u001b[0m\u001b[0;34m=\u001b[0m\u001b[0mA\u001b[0m\u001b[0;34m.\u001b[0m\u001b[0mdtype\u001b[0m\u001b[0;34m\u001b[0m\u001b[0m\n\u001b[1;32m    271\u001b[0m     \u001b[0;32mtry\u001b[0m\u001b[0;34m:\u001b[0m\u001b[0;34m\u001b[0m\u001b[0m\n",
      "\u001b[0;31mNetworkXError\u001b[0m: ('Adjacency matrix is not square.', 'nx,ny=(620, 1240)')"
     ]
    }
   ],
   "source": [
    "(mean_accuracy_ah_both_ppr, se_accuracy_ah_both_ppr, \n",
    " mean_micro_auc_ah_both_ppr,se_micro_auc_ah_both_ppr, \n",
    " mean_wt_auc_ah_both_ppr,se_wt_auc_ah_both_ppr)= ppr_finalized(nx.from_numpy_matrix(adj_directed_gender_both),\n",
    "                                                            percent_initially_unlabelled, ## note: mean_se_model assumes a vector of x% initially labeled\n",
    "                                                              np.array(ah_gender_both), ## gender labels \n",
    "                                                              0, ## adjacency matrix\n",
    "                                                             10,\n",
    "                                                                cv_setup='stratified')\n",
    "\n",
    "\n",
    "\n",
    "\n"
   ]
  },
  {
   "cell_type": "code",
   "execution_count": null,
   "metadata": {
    "collapsed": true
   },
   "outputs": [],
   "source": []
  },
  {
   "cell_type": "code",
   "execution_count": 32,
   "metadata": {
    "collapsed": false
   },
   "outputs": [
    {
     "name": "stdout",
     "output_type": "stream",
     "text": [
      "0.99\n"
     ]
    },
    {
     "ename": "LinAlgError",
     "evalue": "Singular matrix",
     "output_type": "error",
     "traceback": [
      "\u001b[0;31m---------------------------------------------------------------------------\u001b[0m",
      "\u001b[0;31mLinAlgError\u001b[0m                               Traceback (most recent call last)",
      "\u001b[0;32m<ipython-input-32-c69c16f2e62a>\u001b[0m in \u001b[0;36m<module>\u001b[0;34m()\u001b[0m\n\u001b[1;32m      4\u001b[0m                                     \u001b[0mnp\u001b[0m\u001b[0;34m.\u001b[0m\u001b[0marray\u001b[0m\u001b[0;34m(\u001b[0m\u001b[0mah_gender_both\u001b[0m\u001b[0;34m)\u001b[0m\u001b[0;34m,\u001b[0m\u001b[0mpercent_initially_unlabelled\u001b[0m\u001b[0;34m,\u001b[0m\u001b[0;34m\u001b[0m\u001b[0m\n\u001b[1;32m      5\u001b[0m                                     \u001b[0mnum_iter\u001b[0m\u001b[0;34m=\u001b[0m\u001b[0;36m10\u001b[0m\u001b[0;34m,\u001b[0m\u001b[0;34m\u001b[0m\u001b[0m\n\u001b[0;32m----> 6\u001b[0;31m                                                                   cv_setup='stratified')\n\u001b[0m",
      "\u001b[0;32mpnas_code/ZGL.py\u001b[0m in \u001b[0;36mZGL_finalized\u001b[0;34m(feature_x, membership_y, num_unlabeled, num_iter, cv_setup, python_library)\u001b[0m\n",
      "\u001b[0;32m/Users/kristen/anaconda/lib/python2.7/site-packages/numpy/linalg/linalg.pyc\u001b[0m in \u001b[0;36minv\u001b[0;34m(a)\u001b[0m\n\u001b[1;32m    524\u001b[0m     \u001b[0msignature\u001b[0m \u001b[0;34m=\u001b[0m \u001b[0;34m'D->D'\u001b[0m \u001b[0;32mif\u001b[0m \u001b[0misComplexType\u001b[0m\u001b[0;34m(\u001b[0m\u001b[0mt\u001b[0m\u001b[0;34m)\u001b[0m \u001b[0;32melse\u001b[0m \u001b[0;34m'd->d'\u001b[0m\u001b[0;34m\u001b[0m\u001b[0m\n\u001b[1;32m    525\u001b[0m     \u001b[0mextobj\u001b[0m \u001b[0;34m=\u001b[0m \u001b[0mget_linalg_error_extobj\u001b[0m\u001b[0;34m(\u001b[0m\u001b[0m_raise_linalgerror_singular\u001b[0m\u001b[0;34m)\u001b[0m\u001b[0;34m\u001b[0m\u001b[0m\n\u001b[0;32m--> 526\u001b[0;31m     \u001b[0mainv\u001b[0m \u001b[0;34m=\u001b[0m \u001b[0m_umath_linalg\u001b[0m\u001b[0;34m.\u001b[0m\u001b[0minv\u001b[0m\u001b[0;34m(\u001b[0m\u001b[0ma\u001b[0m\u001b[0;34m,\u001b[0m \u001b[0msignature\u001b[0m\u001b[0;34m=\u001b[0m\u001b[0msignature\u001b[0m\u001b[0;34m,\u001b[0m \u001b[0mextobj\u001b[0m\u001b[0;34m=\u001b[0m\u001b[0mextobj\u001b[0m\u001b[0;34m)\u001b[0m\u001b[0;34m\u001b[0m\u001b[0m\n\u001b[0m\u001b[1;32m    527\u001b[0m     \u001b[0;32mreturn\u001b[0m \u001b[0mwrap\u001b[0m\u001b[0;34m(\u001b[0m\u001b[0mainv\u001b[0m\u001b[0;34m.\u001b[0m\u001b[0mastype\u001b[0m\u001b[0;34m(\u001b[0m\u001b[0mresult_t\u001b[0m\u001b[0;34m,\u001b[0m \u001b[0mcopy\u001b[0m\u001b[0;34m=\u001b[0m\u001b[0mFalse\u001b[0m\u001b[0;34m)\u001b[0m\u001b[0;34m)\u001b[0m\u001b[0;34m\u001b[0m\u001b[0m\n\u001b[1;32m    528\u001b[0m \u001b[0;34m\u001b[0m\u001b[0m\n",
      "\u001b[0;32m/Users/kristen/anaconda/lib/python2.7/site-packages/numpy/linalg/linalg.pyc\u001b[0m in \u001b[0;36m_raise_linalgerror_singular\u001b[0;34m(err, flag)\u001b[0m\n\u001b[1;32m     88\u001b[0m \u001b[0;34m\u001b[0m\u001b[0m\n\u001b[1;32m     89\u001b[0m \u001b[0;32mdef\u001b[0m \u001b[0m_raise_linalgerror_singular\u001b[0m\u001b[0;34m(\u001b[0m\u001b[0merr\u001b[0m\u001b[0;34m,\u001b[0m \u001b[0mflag\u001b[0m\u001b[0;34m)\u001b[0m\u001b[0;34m:\u001b[0m\u001b[0;34m\u001b[0m\u001b[0m\n\u001b[0;32m---> 90\u001b[0;31m     \u001b[0;32mraise\u001b[0m \u001b[0mLinAlgError\u001b[0m\u001b[0;34m(\u001b[0m\u001b[0;34m\"Singular matrix\"\u001b[0m\u001b[0;34m)\u001b[0m\u001b[0;34m\u001b[0m\u001b[0m\n\u001b[0m\u001b[1;32m     91\u001b[0m \u001b[0;34m\u001b[0m\u001b[0m\n\u001b[1;32m     92\u001b[0m \u001b[0;32mdef\u001b[0m \u001b[0m_raise_linalgerror_nonposdef\u001b[0m\u001b[0;34m(\u001b[0m\u001b[0merr\u001b[0m\u001b[0;34m,\u001b[0m \u001b[0mflag\u001b[0m\u001b[0;34m)\u001b[0m\u001b[0;34m:\u001b[0m\u001b[0;34m\u001b[0m\u001b[0m\n",
      "\u001b[0;31mLinAlgError\u001b[0m: Singular matrix"
     ]
    }
   ],
   "source": [
    "(mean_accuracy_zgl_ah_both, se_accuracy_zgl_ah_both, \n",
    "mean_micro_auc_zgl_ah_both,se_micro_auc_zgl_ah_both, \n",
    "mean_wt_auc_zgl_ah_both,se_wt_auc_zgl_ah_both) =ZGL_finalized(np.array(adj_directed_gender_both),\n",
    "                                    np.array(ah_gender_both),percent_initially_unlabelled, \n",
    "                                    num_iter=10,\n",
    "                                                                  cv_setup='stratified')"
   ]
  },
  {
   "cell_type": "code",
   "execution_count": null,
   "metadata": {
    "collapsed": true
   },
   "outputs": [],
   "source": []
  }
 ],
 "metadata": {
  "kernelspec": {
   "display_name": "Python 2",
   "language": "python",
   "name": "python2"
  },
  "language_info": {
   "codemirror_mode": {
    "name": "ipython",
    "version": 2
   },
   "file_extension": ".py",
   "mimetype": "text/x-python",
   "name": "python",
   "nbconvert_exporter": "python",
   "pygments_lexer": "ipython2",
   "version": "2.7.12"
  }
 },
 "nbformat": 4,
 "nbformat_minor": 0
}
